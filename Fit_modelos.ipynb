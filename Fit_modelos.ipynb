{
 "cells": [
  {
   "cell_type": "markdown",
   "id": "d609bc59-5ec5-4ce4-90ae-320bfc910cfe",
   "metadata": {},
   "source": [
    "### Fitando os modelos de viscosidade"
   ]
  },
  {
   "cell_type": "markdown",
   "id": "76f93cbe-3db9-4aff-a494-9aafd55ba6db",
   "metadata": {},
   "source": [
    "Neste notebook importamos as equações e os dados experimentais para ajustar os modelos. Criamos um dicionário que armazena os valores e os desvios padrão dos parâmetros. Ao fim, armazenamos em um documento, como o módulo Pickle, os números desejados."
   ]
  },
  {
   "cell_type": "code",
   "execution_count": 1,
   "id": "ca7a5611-94d9-441e-bdc6-34e6c2b32e17",
   "metadata": {},
   "outputs": [],
   "source": [
    "from Viscosity_models import *\n",
    "from Constants import *\n",
    "import pandas as pd\n",
    "import numpy as np\n",
    "import pickle"
   ]
  },
  {
   "cell_type": "code",
   "execution_count": 22,
   "id": "bb8f755e-7e89-4bbb-8540-e9ca8eac254c",
   "metadata": {},
   "outputs": [],
   "source": [
    "\n",
    "def fita_modelos(log_eta_inf, Tg, m, equacoes):\n",
    "    \n",
    "    palpites_iniciais = {}\n",
    "    ajuste = {}\n",
    "    liquidos_e_ajustes = {}\n",
    "    \n",
    "    for liquido in liquidos:\n",
    "        \n",
    "        dados, x, y_log = carrega_dados(liquido)\n",
    "        \n",
    "        for equacao in equacoes:\n",
    "\n",
    "            modelo = Model(equacao)\n",
    "\n",
    "            if equacao == VFT:\n",
    "                Tg = 1000\n",
    "            elif equacao == AM:\n",
    "                pass\n",
    "            elif equacao == CW:\n",
    "                pass\n",
    "            elif equacao == F2:\n",
    "                pass\n",
    "            elif equacao == F3:\n",
    "                pass\n",
    "            elif equacao == F4:\n",
    "                log_eta_inf = 1\n",
    "                Tg = 1000\n",
    "            elif equacao == CLU:\n",
    "                Tg = 1000\n",
    "            elif equacao == Bassler:\n",
    "                pass\n",
    "            elif equacao == FF:\n",
    "                pass\n",
    "            elif equacao == Demetriou_et_al:\n",
    "                pass\n",
    "\n",
    "            params = modelo.make_params(log_eta_inf = log_eta_inf, m = m, Tg = Tg)\n",
    "            resultado =  modelo.fit(y_log, params, T=x)\n",
    "\n",
    "            ajuste[equacao] = resultado\n",
    "            \n",
    "        liquidos_e_ajustes[liquido[:-5]] = ajuste\n",
    "        \n",
    "        pickle.dump(liquidos_e_ajustes, open(\"resultados_ajuste\", \"wb\"))\n",
    "        \n",
    "    return liquidos_e_ajustes"
   ]
  },
  {
   "cell_type": "code",
   "execution_count": 23,
   "id": "30e6f018-473b-4740-bb4d-317fe706177b",
   "metadata": {},
   "outputs": [],
   "source": [
    "resultados_ajuste = fita_modelos(log_eta_inf, Tg, m, equacoes)"
   ]
  },
  {
   "cell_type": "code",
   "execution_count": 24,
   "id": "8d57ff51-f0a8-497b-88bc-7ae9040153b5",
   "metadata": {},
   "outputs": [
    {
     "data": {
      "text/plain": [
       "{'CaMgSi2O6': {<function Viscosity_models.VFT(T, log_eta_inf, m, Tg)>: <lmfit.model.ModelResult at 0x227c20a7010>,\n",
       "  <function Viscosity_models.AM(T, log_eta_inf, m, Tg)>: <lmfit.model.ModelResult at 0x227c621bc10>,\n",
       "  <function Viscosity_models.MYEGA(T, log_eta_inf, m, Tg)>: <lmfit.model.ModelResult at 0x227c6246f50>,\n",
       "  <function Viscosity_models.CW(T, log_eta_inf, m, Tg)>: <lmfit.model.ModelResult at 0x227c643a080>},\n",
       " 'B2O3': {<function Viscosity_models.VFT(T, log_eta_inf, m, Tg)>: <lmfit.model.ModelResult at 0x227c20a7010>,\n",
       "  <function Viscosity_models.AM(T, log_eta_inf, m, Tg)>: <lmfit.model.ModelResult at 0x227c621bc10>,\n",
       "  <function Viscosity_models.MYEGA(T, log_eta_inf, m, Tg)>: <lmfit.model.ModelResult at 0x227c6246f50>,\n",
       "  <function Viscosity_models.CW(T, log_eta_inf, m, Tg)>: <lmfit.model.ModelResult at 0x227c643a080>},\n",
       " 'NaAlSi3O8': {<function Viscosity_models.VFT(T, log_eta_inf, m, Tg)>: <lmfit.model.ModelResult at 0x227c20a7010>,\n",
       "  <function Viscosity_models.AM(T, log_eta_inf, m, Tg)>: <lmfit.model.ModelResult at 0x227c621bc10>,\n",
       "  <function Viscosity_models.MYEGA(T, log_eta_inf, m, Tg)>: <lmfit.model.ModelResult at 0x227c6246f50>,\n",
       "  <function Viscosity_models.CW(T, log_eta_inf, m, Tg)>: <lmfit.model.ModelResult at 0x227c643a080>}}"
      ]
     },
     "execution_count": 24,
     "metadata": {},
     "output_type": "execute_result"
    }
   ],
   "source": [
    "fita_modelos(log_eta_inf, Tg, m, equacoes)"
   ]
  },
  {
   "cell_type": "code",
   "execution_count": 25,
   "id": "0a8fc0a0-819a-4030-b9d2-aada5f16b0fe",
   "metadata": {},
   "outputs": [
    {
     "name": "stdout",
     "output_type": "stream",
     "text": [
      "{'CaMgSi2O6': {<function VFT at 0x00000227A0FFC9D0>: <lmfit.model.ModelResult object at 0x00000227C6285E10>, <function AM at 0x00000227B03AD2D0>: <lmfit.model.ModelResult object at 0x00000227C6285240>, <function MYEGA at 0x00000227C1912050>: <lmfit.model.ModelResult object at 0x00000227C622BE50>, <function CW at 0x00000227C192CDC0>: <lmfit.model.ModelResult object at 0x00000227C622AD70>}, 'B2O3': {<function VFT at 0x00000227A0FFC9D0>: <lmfit.model.ModelResult object at 0x00000227C6285E10>, <function AM at 0x00000227B03AD2D0>: <lmfit.model.ModelResult object at 0x00000227C6285240>, <function MYEGA at 0x00000227C1912050>: <lmfit.model.ModelResult object at 0x00000227C622BE50>, <function CW at 0x00000227C192CDC0>: <lmfit.model.ModelResult object at 0x00000227C622AD70>}, 'NaAlSi3O8': {<function VFT at 0x00000227A0FFC9D0>: <lmfit.model.ModelResult object at 0x00000227C6285E10>, <function AM at 0x00000227B03AD2D0>: <lmfit.model.ModelResult object at 0x00000227C6285240>, <function MYEGA at 0x00000227C1912050>: <lmfit.model.ModelResult object at 0x00000227C622BE50>, <function CW at 0x00000227C192CDC0>: <lmfit.model.ModelResult object at 0x00000227C622AD70>}}\n"
     ]
    }
   ],
   "source": [
    "print(resultados_ajuste)"
   ]
  }
 ],
 "metadata": {
  "kernelspec": {
   "display_name": "ilumpy",
   "language": "python",
   "name": "ilumpy"
  },
  "language_info": {
   "codemirror_mode": {
    "name": "ipython",
    "version": 3
   },
   "file_extension": ".py",
   "mimetype": "text/x-python",
   "name": "python",
   "nbconvert_exporter": "python",
   "pygments_lexer": "ipython3",
   "version": "3.10.8"
  }
 },
 "nbformat": 4,
 "nbformat_minor": 5
}

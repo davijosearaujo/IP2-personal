{
 "cells": [
  {
   "cell_type": "code",
   "execution_count": 35,
   "id": "fec3af98-310a-45e8-b278-255df108a969",
   "metadata": {},
   "outputs": [],
   "source": [
    "import pickle\n",
    "from scipy import stats\n",
    "\n",
    "scores = pickle.load(open(\"RMSEs\", \"rb\"))\n",
    "\n",
    "resultado_shapiro = []\n",
    "#lista que contém todos os conjuntos de scores individuais de cada modelo\n",
    "armazena_scores = []\n",
    "modelos_em_ordem = list(sorted(scores.keys()))\n",
    "\n",
    "for modelo in modelos_em_ordem:\n",
    "\n",
    "    shapiro = stats.shapiro(scores[modelo])\n",
    "    resultado_shapiro.append((modelo,shapiro))\n",
    "    \n",
    "    armazena_scores.append(scores[modelo])\n",
    "     "
   ]
  },
  {
   "cell_type": "code",
   "execution_count": 37,
   "id": "3ad3091e-8794-45d3-a96a-efef3c2770da",
   "metadata": {},
   "outputs": [
    {
     "data": {
      "text/plain": [
       "ShapiroResult(statistic=0.974774956703186, pvalue=0.676098644733429)"
      ]
     },
     "execution_count": 37,
     "metadata": {},
     "output_type": "execute_result"
    }
   ],
   "source": [
    "shapiro"
   ]
  },
  {
   "cell_type": "code",
   "execution_count": 38,
   "id": "34a3d77d-0fd4-40a9-800c-d635fe360870",
   "metadata": {},
   "outputs": [],
   "source": [
    "resultado_levene = stats.levene(*armazena_scores)\n",
    "resultado_anova = stats.f_oneway(*armazena_scores)\n",
    "resultado_tukey = stats.tukey_hsd(*armazena_scores)"
   ]
  },
  {
   "cell_type": "code",
   "execution_count": 39,
   "id": "05d415e5-ea4f-4190-a6e5-0c9a93c39b79",
   "metadata": {},
   "outputs": [
    {
     "data": {
      "text/plain": [
       "LeveneResult(statistic=0.0033812956566847694, pvalue=0.999727377341472)"
      ]
     },
     "execution_count": 39,
     "metadata": {},
     "output_type": "execute_result"
    }
   ],
   "source": [
    "resultado_levene"
   ]
  },
  {
   "cell_type": "code",
   "execution_count": 40,
   "id": "dcabe4bd-6d21-4159-b137-c8ff01fa7ba1",
   "metadata": {},
   "outputs": [
    {
     "data": {
      "text/plain": [
       "F_onewayResult(statistic=0.001484695510769436, pvalue=0.999920539105676)"
      ]
     },
     "execution_count": 40,
     "metadata": {},
     "output_type": "execute_result"
    }
   ],
   "source": [
    "resultado_anova"
   ]
  },
  {
   "cell_type": "code",
   "execution_count": 41,
   "id": "dfdd095e-6206-440e-b9da-cab67b8a6752",
   "metadata": {},
   "outputs": [
    {
     "name": "stdout",
     "output_type": "stream",
     "text": [
      "Tukey's HSD Pairwise Group Comparisons (95.0% Confidence Interval)\n",
      "Comparison  Statistic  p-value  Lower CI  Upper CI\n",
      " (0 - 1)     -0.000     1.000    -0.103     0.103\n",
      " (0 - 2)      0.002     1.000    -0.101     0.104\n",
      " (0 - 3)      0.002     1.000    -0.101     0.105\n",
      " (1 - 0)      0.000     1.000    -0.103     0.103\n",
      " (1 - 2)      0.002     1.000    -0.101     0.104\n",
      " (1 - 3)      0.002     1.000    -0.101     0.105\n",
      " (2 - 0)     -0.002     1.000    -0.104     0.101\n",
      " (2 - 1)     -0.002     1.000    -0.104     0.101\n",
      " (2 - 3)      0.000     1.000    -0.102     0.103\n",
      " (3 - 0)     -0.002     1.000    -0.105     0.101\n",
      " (3 - 1)     -0.002     1.000    -0.105     0.101\n",
      " (3 - 2)     -0.000     1.000    -0.103     0.102\n",
      "\n"
     ]
    }
   ],
   "source": [
    "print(resultado_tukey)"
   ]
  },
  {
   "cell_type": "code",
   "execution_count": 42,
   "id": "0e34fb5a-1246-47a5-9b4c-d853c9b323b5",
   "metadata": {},
   "outputs": [
    {
     "data": {
      "text/plain": [
       "array([[1.        , 1.        , 0.99997683, 0.9999473 ],\n",
       "       [1.        , 1.        , 0.99997683, 0.9999473 ],\n",
       "       [0.99997683, 0.99997683, 1.        , 0.99999927],\n",
       "       [0.9999473 , 0.9999473 , 0.99999927, 1.        ]])"
      ]
     },
     "execution_count": 42,
     "metadata": {},
     "output_type": "execute_result"
    }
   ],
   "source": [
    "resultado_tukey.pvalue"
   ]
  },
  {
   "cell_type": "code",
   "execution_count": 7,
   "id": "573ff09a-d348-4028-9c2a-189ba53270d1",
   "metadata": {},
   "outputs": [
    {
     "name": "stdout",
     "output_type": "stream",
     "text": [
      "['AM', 'CW', 'MYEGA', 'VFT']\n"
     ]
    }
   ],
   "source": [
    "print(modelos_em_ordem)"
   ]
  },
  {
   "cell_type": "code",
   "execution_count": null,
   "id": "bd8de48a-0277-4a0f-a4b2-3212d0257c1e",
   "metadata": {},
   "outputs": [],
   "source": []
  }
 ],
 "metadata": {
  "kernelspec": {
   "display_name": "ilumpy",
   "language": "python",
   "name": "ilumpy"
  },
  "language_info": {
   "codemirror_mode": {
    "name": "ipython",
    "version": 3
   },
   "file_extension": ".py",
   "mimetype": "text/x-python",
   "name": "python",
   "nbconvert_exporter": "python",
   "pygments_lexer": "ipython3",
   "version": "3.10.8"
  }
 },
 "nbformat": 4,
 "nbformat_minor": 5
}

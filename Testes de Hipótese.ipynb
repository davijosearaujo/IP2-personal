{
 "cells": [
  {
   "cell_type": "code",
   "execution_count": 8,
   "id": "fec3af98-310a-45e8-b278-255df108a969",
   "metadata": {},
   "outputs": [],
   "source": [
    "import pickle\n",
    "from scipy import stats\n",
    "\n",
    "scores = pickle.load(open(\"RMSEs\", \"rb\"))\n",
    "\n",
    "resultado_shapiro = []\n",
    "#lista que contém todos os conjuntos de scores individuais de cada modelo\n",
    "armazena_scores = []\n",
    "modelos_em_ordem = list(sorted(scores.keys()))\n",
    "\n",
    "for modelo in modelos_em_ordem:\n",
    "\n",
    "    shapiro = stats.shapiro(scores[modelo])\n",
    "    resultado_shapiro.append((modelo,shapiro))\n",
    "    \n",
    "    armazena_scores.append(scores[modelo])\n",
    "     "
   ]
  },
  {
   "cell_type": "code",
   "execution_count": 23,
   "id": "3ad3091e-8794-45d3-a96a-efef3c2770da",
   "metadata": {},
   "outputs": [],
   "source": [
    "#armazena_scores"
   ]
  },
  {
   "cell_type": "code",
   "execution_count": null,
   "id": "34a3d77d-0fd4-40a9-800c-d635fe360870",
   "metadata": {},
   "outputs": [],
   "source": [
    "resultado_levene = stats.levene(*armazena_scores)\n",
    "resultado_anova = stats.f_oneway(*armazena_scores)\n",
    "resultado_tukey = stats.tukey_hsd(*armazena_scores)"
   ]
  },
  {
   "cell_type": "code",
   "execution_count": 11,
   "id": "05d415e5-ea4f-4190-a6e5-0c9a93c39b79",
   "metadata": {},
   "outputs": [
    {
     "data": {
      "text/plain": [
       "LeveneResult(statistic=0.09110835946436079, pvalue=0.9648098048044237)"
      ]
     },
     "execution_count": 11,
     "metadata": {},
     "output_type": "execute_result"
    }
   ],
   "source": [
    "resultado_levene"
   ]
  },
  {
   "cell_type": "code",
   "execution_count": 12,
   "id": "dcabe4bd-6d21-4159-b137-c8ff01fa7ba1",
   "metadata": {},
   "outputs": [
    {
     "data": {
      "text/plain": [
       "F_onewayResult(statistic=10.464507718277341, pvalue=3.810438027120942e-06)"
      ]
     },
     "execution_count": 12,
     "metadata": {},
     "output_type": "execute_result"
    }
   ],
   "source": [
    "resultado_anova"
   ]
  },
  {
   "cell_type": "code",
   "execution_count": 30,
   "id": "dfdd095e-6206-440e-b9da-cab67b8a6752",
   "metadata": {},
   "outputs": [
    {
     "name": "stdout",
     "output_type": "stream",
     "text": [
      "Tukey's HSD Pairwise Group Comparisons (95.0% Confidence Interval)\n",
      "Comparison  Statistic  p-value  Lower CI  Upper CI\n",
      " (0 - 1)      0.000     1.000    -0.031     0.031\n",
      " (0 - 2)     -0.015     0.576    -0.047     0.016\n",
      " (0 - 3)     -0.058     0.000    -0.090    -0.027\n",
      " (1 - 0)     -0.000     1.000    -0.031     0.031\n",
      " (1 - 2)     -0.015     0.576    -0.047     0.016\n",
      " (1 - 3)     -0.058     0.000    -0.090    -0.027\n",
      " (2 - 0)      0.015     0.576    -0.016     0.047\n",
      " (2 - 1)      0.015     0.576    -0.016     0.047\n",
      " (2 - 3)     -0.043     0.003    -0.074    -0.011\n",
      " (3 - 0)      0.058     0.000     0.027     0.090\n",
      " (3 - 1)      0.058     0.000     0.027     0.090\n",
      " (3 - 2)      0.043     0.003     0.011     0.074\n",
      "\n"
     ]
    }
   ],
   "source": [
    "print(resultado_tukey)"
   ]
  },
  {
   "cell_type": "code",
   "execution_count": 28,
   "id": "0e34fb5a-1246-47a5-9b4c-d853c9b323b5",
   "metadata": {},
   "outputs": [
    {
     "data": {
      "text/plain": [
       "array([[1.00000000e+00, 1.00000000e+00, 5.75793792e-01, 2.38282112e-05],\n",
       "       [1.00000000e+00, 1.00000000e+00, 5.75793780e-01, 2.38282094e-05],\n",
       "       [5.75793792e-01, 5.75793780e-01, 1.00000000e+00, 3.01905940e-03],\n",
       "       [2.38282112e-05, 2.38282094e-05, 3.01905940e-03, 1.00000000e+00]])"
      ]
     },
     "execution_count": 28,
     "metadata": {},
     "output_type": "execute_result"
    }
   ],
   "source": [
    "resultado_tukey.pvalue"
   ]
  },
  {
   "cell_type": "code",
   "execution_count": 7,
   "id": "573ff09a-d348-4028-9c2a-189ba53270d1",
   "metadata": {},
   "outputs": [
    {
     "name": "stdout",
     "output_type": "stream",
     "text": [
      "['AM', 'CW', 'MYEGA', 'VFT']\n"
     ]
    }
   ],
   "source": [
    "print(modelos_em_ordem)"
   ]
  },
  {
   "cell_type": "code",
   "execution_count": null,
   "id": "bd8de48a-0277-4a0f-a4b2-3212d0257c1e",
   "metadata": {},
   "outputs": [],
   "source": []
  }
 ],
 "metadata": {
  "kernelspec": {
   "display_name": "ilumpy",
   "language": "python",
   "name": "ilumpy"
  },
  "language_info": {
   "codemirror_mode": {
    "name": "ipython",
    "version": 3
   },
   "file_extension": ".py",
   "mimetype": "text/x-python",
   "name": "python",
   "nbconvert_exporter": "python",
   "pygments_lexer": "ipython3",
   "version": "3.10.8"
  }
 },
 "nbformat": 4,
 "nbformat_minor": 5
}

{
 "cells": [
  {
   "cell_type": "code",
   "execution_count": 38,
   "id": "015c5f45-4b53-4850-8707-6e5f1bf07163",
   "metadata": {
    "tags": []
   },
   "outputs": [],
   "source": [
    "from sklearn.model_selection import RepeatedKFold\n",
    "from sklearn.model_selection import cross_val_score\n",
    "from sklearn.metrics import mean_squared_error\n",
    "import pickle\n",
    "import pandas as pd\n",
    "import numpy\n",
    "from Viscosity_models import *\n",
    "from Constants import *\n",
    "from scipy import stats"
   ]
  },
  {
   "cell_type": "code",
   "execution_count": 39,
   "id": "fb69ffc9-69e8-42b2-ab10-048921064dab",
   "metadata": {},
   "outputs": [],
   "source": [
    "dados = pd.read_excel(\"NaAlSi3O8.xlsx\")\n",
    "dados = dados.sort_values('temp [K]')\n",
    "x = np.array(dados['temp [K]'])\n",
    "y_log = np.array(dados['visc [log10 Pa.s]'])"
   ]
  },
  {
   "cell_type": "code",
   "execution_count": 40,
   "id": "2247438c-9610-4582-9b87-52489c533d47",
   "metadata": {},
   "outputs": [],
   "source": [
    "rkf = RepeatedKFold(n_splits=5, n_repeats=6, random_state=2652124)"
   ]
  },
  {
   "cell_type": "code",
   "execution_count": 41,
   "id": "e3c52508-0f8d-4530-9c3c-15033d43f3db",
   "metadata": {},
   "outputs": [],
   "source": [
    "modelos = pickle.load(open(\"resultados_ajuste\", \"rb\"))"
   ]
  },
  {
   "cell_type": "code",
   "execution_count": 42,
   "id": "d85108dd-5fc4-4a9b-8e31-b40310fc849f",
   "metadata": {},
   "outputs": [],
   "source": [
    "medias = {}\n",
    "scores = {}\n",
    "\n",
    "for equacao, resultado in modelos.items():\n",
    "    \n",
    "    scores[equacao.__name__] = []\n",
    "    medias[equacao.__name__] = 0\n",
    "    for i, (train_index, test_index) in enumerate(rkf.split(x)):\n",
    "        \n",
    "        x_treino = x[train_index]\n",
    "        y_treino = y_log[train_index]\n",
    "        y_teste = y_log[test_index]\n",
    "        x_teste = x[test_index]\n",
    "\n",
    "        Resultado = Model(equacao).fit(y_treino, resultado.params, T = x_treino)\n",
    "\n",
    "        y_verdadeiro = y_log[test_index]\n",
    "        y_previsao = Resultado.eval(T = x_teste)\n",
    "        RMSE = mean_squared_error(y_verdadeiro, y_previsao, squared = False)\n",
    "        scores[equacao.__name__].append(RMSE)\n",
    "    \n",
    "    medias[equacao.__name__] = np.mean(scores[equacao.__name__])  \n",
    "\n",
    "    pickle.dump(scores, open(\"RMSEs\", \"wb\"))"
   ]
  },
  {
   "cell_type": "code",
   "execution_count": 43,
   "id": "abea28c4-9f89-4d79-b999-49ded6ecde2d",
   "metadata": {},
   "outputs": [
    {
     "data": {
      "text/plain": [
       "{'VFT': [0.9504696407250479,\n",
       "  0.8199242193417274,\n",
       "  0.5160358477791226,\n",
       "  0.4504490531501914,\n",
       "  0.34608206803876407,\n",
       "  0.683685233794045,\n",
       "  0.4543726096603407,\n",
       "  0.7662502909186171,\n",
       "  0.7406392434109965,\n",
       "  0.5766564812055786,\n",
       "  0.6513965493878837,\n",
       "  0.5305755679324068,\n",
       "  0.8565688721386844,\n",
       "  0.6677106523476422,\n",
       "  0.4752021213521738,\n",
       "  0.8202497980040662,\n",
       "  0.7024868326273956,\n",
       "  0.44948377634830294,\n",
       "  0.39841248748218444,\n",
       "  0.8103746925676392,\n",
       "  0.8034244364116218,\n",
       "  0.5068721175094402,\n",
       "  0.6837917952145895,\n",
       "  0.46920148574098963,\n",
       "  0.7274724898609707,\n",
       "  0.6627020540420699,\n",
       "  0.6016556398298444,\n",
       "  0.7145779983933478,\n",
       "  0.6100918864838818,\n",
       "  0.6668608480500555],\n",
       " 'AM': [0.954230372145936,\n",
       "  0.8221060919175507,\n",
       "  0.5129485439395596,\n",
       "  0.45946468811422325,\n",
       "  0.35694590901233036,\n",
       "  0.6821729395394509,\n",
       "  0.45202913943671136,\n",
       "  0.7709731379119339,\n",
       "  0.7489775756918378,\n",
       "  0.5700539694514117,\n",
       "  0.653199607158755,\n",
       "  0.5248575448277296,\n",
       "  0.8567810638811292,\n",
       "  0.66801496315824,\n",
       "  0.4798325535667487,\n",
       "  0.822498611826408,\n",
       "  0.7071904075952844,\n",
       "  0.4534091795668217,\n",
       "  0.3892157854951571,\n",
       "  0.8148048176075514,\n",
       "  0.8078870084610171,\n",
       "  0.5081326642367274,\n",
       "  0.6896474485698834,\n",
       "  0.474640883366926,\n",
       "  0.7256358467476973,\n",
       "  0.6822614682335247,\n",
       "  0.6008975479360453,\n",
       "  0.720405920003054,\n",
       "  0.6017482387917701,\n",
       "  0.6649781706056174],\n",
       " 'MYEGA': [0.9514223543775407,\n",
       "  0.8200946774158248,\n",
       "  0.5143122783950588,\n",
       "  0.4556456492632069,\n",
       "  0.3495226791697071,\n",
       "  0.6825346146981519,\n",
       "  0.4537051891230209,\n",
       "  0.7673857467573888,\n",
       "  0.7431723708149998,\n",
       "  0.573573064340544,\n",
       "  0.6516542291676505,\n",
       "  0.5278198669317008,\n",
       "  0.8561837373780001,\n",
       "  0.6676597261251104,\n",
       "  0.4764351826980722,\n",
       "  0.8205202950567136,\n",
       "  0.7052651648407647,\n",
       "  0.4501583879245689,\n",
       "  0.39497327487781747,\n",
       "  0.8112046780061966,\n",
       "  0.804902377005396,\n",
       "  0.5072471831269563,\n",
       "  0.685440936281752,\n",
       "  0.4712653022915434,\n",
       "  0.7262331669383285,\n",
       "  0.6715291333032201,\n",
       "  0.6009766719259041,\n",
       "  0.7164152420755369,\n",
       "  0.6059836549411298,\n",
       "  0.6653642919603493],\n",
       " 'CW': [0.9542303772292005,\n",
       "  0.8221061197418646,\n",
       "  0.512948547319518,\n",
       "  0.4594646630696598,\n",
       "  0.3569459533332948,\n",
       "  0.6821729438394916,\n",
       "  0.45202914864283533,\n",
       "  0.7709731367558303,\n",
       "  0.748977569498316,\n",
       "  0.5700539793054649,\n",
       "  0.6531996053797877,\n",
       "  0.5248575596051758,\n",
       "  0.8567810662570217,\n",
       "  0.6680149626493141,\n",
       "  0.4798325743347125,\n",
       "  0.8224986081336882,\n",
       "  0.7071903575254155,\n",
       "  0.45340919055392537,\n",
       "  0.3892158216641663,\n",
       "  0.8148048118369916,\n",
       "  0.8078870150472702,\n",
       "  0.5081326645136532,\n",
       "  0.6896474361008141,\n",
       "  0.4746408818366895,\n",
       "  0.7256358515922617,\n",
       "  0.6822615218951201,\n",
       "  0.6008975473610562,\n",
       "  0.7204059256926745,\n",
       "  0.6017482344822271,\n",
       "  0.6649781659152406]}"
      ]
     },
     "execution_count": 43,
     "metadata": {},
     "output_type": "execute_result"
    }
   ],
   "source": [
    "scores"
   ]
  },
  {
   "cell_type": "code",
   "execution_count": 15,
   "id": "b0574c8c-8664-41f7-a06a-39536b214376",
   "metadata": {},
   "outputs": [
    {
     "ename": "NameError",
     "evalue": "name 'score1' is not defined",
     "output_type": "error",
     "traceback": [
      "\u001b[1;31m---------------------------------------------------------------------------\u001b[0m",
      "\u001b[1;31mNameError\u001b[0m                                 Traceback (most recent call last)",
      "Cell \u001b[1;32mIn [15], line 1\u001b[0m\n\u001b[1;32m----> 1\u001b[0m stats\u001b[38;5;241m.\u001b[39mshapiro(\u001b[43mscore1\u001b[49m), stats\u001b[38;5;241m.\u001b[39mshapiro(score2), stats\u001b[38;5;241m.\u001b[39mshapiro(score3), stats\u001b[38;5;241m.\u001b[39mshapiro(score4)\n",
      "\u001b[1;31mNameError\u001b[0m: name 'score1' is not defined"
     ]
    }
   ],
   "source": [
    "stats.shapiro(score1), stats.shapiro(score2), stats.shapiro(score3), stats.shapiro(score4)"
   ]
  },
  {
   "cell_type": "code",
   "execution_count": null,
   "id": "0c4e8182-2cb5-4a38-b1d9-64b6b83c1d84",
   "metadata": {},
   "outputs": [],
   "source": [
    "stats.levene(score1, score2, score3, score4)"
   ]
  },
  {
   "cell_type": "code",
   "execution_count": 16,
   "id": "41428fd9-c6e0-4ce6-a430-6e3b7652c92d",
   "metadata": {},
   "outputs": [
    {
     "ename": "NameError",
     "evalue": "name 'score1' is not defined",
     "output_type": "error",
     "traceback": [
      "\u001b[1;31m---------------------------------------------------------------------------\u001b[0m",
      "\u001b[1;31mNameError\u001b[0m                                 Traceback (most recent call last)",
      "Cell \u001b[1;32mIn [16], line 2\u001b[0m\n\u001b[0;32m      1\u001b[0m testes \u001b[38;5;241m=\u001b[39m {\n\u001b[1;32m----> 2\u001b[0m     \u001b[38;5;124m'\u001b[39m\u001b[38;5;124mANOVA\u001b[39m\u001b[38;5;124m'\u001b[39m : stats\u001b[38;5;241m.\u001b[39mf_oneway(\u001b[43mscore1\u001b[49m,score2,score3, score4),\n\u001b[0;32m      3\u001b[0m     }\n\u001b[0;32m      5\u001b[0m \u001b[38;5;28mprint\u001b[39m(\u001b[38;5;124m'\u001b[39m\u001b[38;5;124mSignificância 0.05\u001b[39m\u001b[38;5;124m'\u001b[39m)\n\u001b[0;32m      6\u001b[0m \u001b[38;5;28;01mfor\u001b[39;00m teste, estatistica \u001b[38;5;129;01min\u001b[39;00m testes\u001b[38;5;241m.\u001b[39mitems():\n",
      "\u001b[1;31mNameError\u001b[0m: name 'score1' is not defined"
     ]
    }
   ],
   "source": [
    "testes = {\n",
    "    'ANOVA' : stats.f_oneway(score1,score2,score3, score4),\n",
    "    }\n",
    "\n",
    "print('Significância 0.05')\n",
    "for teste, estatistica in testes.items():\n",
    "    pvalor = estatistica.pvalue\n",
    "    print(f'Para o teste {teste}, o P-valor foi: {pvalor}')"
   ]
  },
  {
   "cell_type": "code",
   "execution_count": 9,
   "id": "ba46ebbb-0aed-4f98-887f-08d3c3c8c623",
   "metadata": {},
   "outputs": [],
   "source": [
    "tukey = stats.tukey_hsd(score1,score2,score3, score4)"
   ]
  },
  {
   "cell_type": "code",
   "execution_count": 10,
   "id": "aa1fa62a-9f9d-4781-92ae-37e29a764d18",
   "metadata": {},
   "outputs": [
    {
     "name": "stdout",
     "output_type": "stream",
     "text": [
      "Tukey's HSD Pairwise Group Comparisons (95.0% Confidence Interval)\n",
      "Comparison  Statistic  p-value  Lower CI  Upper CI\n",
      " (0 - 1)      0.058     0.000     0.027     0.090\n",
      " (0 - 2)      0.043     0.003     0.011     0.074\n",
      " (0 - 3)      0.058     0.000     0.027     0.090\n",
      " (1 - 0)     -0.058     0.000    -0.090    -0.027\n",
      " (1 - 2)     -0.015     0.576    -0.047     0.016\n",
      " (1 - 3)      0.000     1.000    -0.031     0.031\n",
      " (2 - 0)     -0.043     0.003    -0.074    -0.011\n",
      " (2 - 1)      0.015     0.576    -0.016     0.047\n",
      " (2 - 3)      0.015     0.576    -0.016     0.047\n",
      " (3 - 0)     -0.058     0.000    -0.090    -0.027\n",
      " (3 - 1)     -0.000     1.000    -0.031     0.031\n",
      " (3 - 2)     -0.015     0.576    -0.047     0.016\n",
      "\n"
     ]
    }
   ],
   "source": [
    "print(tukey)"
   ]
  },
  {
   "cell_type": "code",
   "execution_count": 11,
   "id": "9e5f3ceb-dd97-4c7c-b4b2-8583b80bab6e",
   "metadata": {},
   "outputs": [],
   "source": [
    "resultado = tukey.pvalue"
   ]
  },
  {
   "cell_type": "code",
   "execution_count": 12,
   "id": "8eaf8dc9-6a4c-4513-a8a1-95fcd99012a9",
   "metadata": {},
   "outputs": [
    {
     "name": "stdout",
     "output_type": "stream",
     "text": [
      "[[1.00000000e+00 2.38282112e-05 3.01905940e-03 2.38282094e-05]\n",
      " [2.38282112e-05 1.00000000e+00 5.75793792e-01 1.00000000e+00]\n",
      " [3.01905940e-03 5.75793792e-01 1.00000000e+00 5.75793780e-01]\n",
      " [2.38282094e-05 1.00000000e+00 5.75793780e-01 1.00000000e+00]]\n"
     ]
    }
   ],
   "source": [
    "print(resultado)"
   ]
  },
  {
   "cell_type": "code",
   "execution_count": null,
   "id": "f6bcd3e8-fa51-45b2-b9bf-6d924e7231de",
   "metadata": {},
   "outputs": [],
   "source": []
  }
 ],
 "metadata": {
  "kernelspec": {
   "display_name": "ilumpy",
   "language": "python",
   "name": "ilumpy"
  },
  "language_info": {
   "codemirror_mode": {
    "name": "ipython",
    "version": 3
   },
   "file_extension": ".py",
   "mimetype": "text/x-python",
   "name": "python",
   "nbconvert_exporter": "python",
   "pygments_lexer": "ipython3",
   "version": "3.10.8"
  }
 },
 "nbformat": 4,
 "nbformat_minor": 5
}

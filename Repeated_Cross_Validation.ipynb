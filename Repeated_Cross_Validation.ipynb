{
 "cells": [
  {
   "cell_type": "code",
   "execution_count": 10,
   "id": "015c5f45-4b53-4850-8707-6e5f1bf07163",
   "metadata": {
    "tags": []
   },
   "outputs": [],
   "source": [
    "from sklearn.model_selection import RepeatedKFold\n",
    "from sklearn.model_selection import cross_val_score\n",
    "from sklearn.metrics import mean_squared_error\n",
    "import pandas as pd\n",
    "import numpy\n",
    "from Viscosity_models import *\n",
    "from Constants import *\n",
    "from scipy import stats"
   ]
  },
  {
   "cell_type": "code",
   "execution_count": 11,
   "id": "fb69ffc9-69e8-42b2-ab10-048921064dab",
   "metadata": {},
   "outputs": [],
   "source": [
    "dados = pd.read_excel('CaMgSi2O6.xlsx')\n",
    "dados = dados.sort_values('temp [K]')\n",
    "x = np.array(dados['temp [K]'])\n",
    "y_log = np.array(dados['visc [log10 Pa.s]'])"
   ]
  },
  {
   "cell_type": "code",
   "execution_count": 12,
   "id": "2247438c-9610-4582-9b87-52489c533d47",
   "metadata": {},
   "outputs": [],
   "source": [
    "rkf = RepeatedKFold(n_splits=5, n_repeats=6, random_state=2652124)"
   ]
  },
  {
   "cell_type": "code",
   "execution_count": 13,
   "id": "e3c52508-0f8d-4530-9c3c-15033d43f3db",
   "metadata": {},
   "outputs": [],
   "source": [
    "modelos = pickle.load(open(\"resultados_ajuste\", \"rb\"))"
   ]
  },
  {
   "cell_type": "code",
   "execution_count": 14,
   "id": "d85108dd-5fc4-4a9b-8e31-b40310fc849f",
   "metadata": {},
   "outputs": [],
   "source": [
    "medias = {}\n",
    "scores = {}\n",
    "\n",
    "for equacao, resultado in modelos.items():\n",
    "    \n",
    "    scores[equacao.__name__] = []\n",
    "    medias[equacao.__name__] = 0\n",
    "    for i, (train_index, test_index) in enumerate(rkf.split(x)):\n",
    "        \n",
    "        x_treino = x[train_index]\n",
    "        y_treino = y_log[train_index]\n",
    "        y_teste = y_log[test_index]\n",
    "        x_teste = x[test_index]\n",
    "\n",
    "        Resultado = Model(equacao).fit(y_treino, resultado.params, T = x_treino)\n",
    "\n",
    "        y_verdadeiro = y_log[test_index]\n",
    "        y_previsao = Resultado.eval(T = x_teste)\n",
    "        RMSE = mean_squared_error(y_verdadeiro, y_previsao, squared = False)\n",
    "        scores[equacao.__name__].append(RMSE)\n",
    "    \n",
    "    medias[equacao.__name__] = np.mean(scores[equacao.__name__])  \n",
    "\n",
    "    pickle.dump(scores, open(\"RMSEs\", \"wb\"))"
   ]
  },
  {
   "cell_type": "code",
   "execution_count": 18,
   "id": "abea28c4-9f89-4d79-b999-49ded6ecde2d",
   "metadata": {},
   "outputs": [
    {
     "data": {
      "text/plain": [
       "{'VFT': [0.28178202824865184,\n",
       "  0.3028103597008144,\n",
       "  0.33224027921694277,\n",
       "  0.17870352155272834,\n",
       "  0.33011979776114225,\n",
       "  0.3610000623852659,\n",
       "  0.2653491988178729,\n",
       "  0.276294097599245,\n",
       "  0.27110966188015445,\n",
       "  0.2541842576547802,\n",
       "  0.2185780637566275,\n",
       "  0.34588687938544005,\n",
       "  0.2510977046365571,\n",
       "  0.3043025292592925,\n",
       "  0.3180476151251757,\n",
       "  0.26740731108780624,\n",
       "  0.2937624790984686,\n",
       "  0.3034664694071004,\n",
       "  0.2403306323912492,\n",
       "  0.3440633649158636,\n",
       "  0.31312246885282985,\n",
       "  0.27009279254703195,\n",
       "  0.31331025132071405,\n",
       "  0.2967585984870791,\n",
       "  0.25148906373069885,\n",
       "  0.3442036106215597,\n",
       "  0.22015829892332717,\n",
       "  0.2812103156358688,\n",
       "  0.3708573220761419,\n",
       "  0.20600714684564272],\n",
       " 'AM': [0.22271916105231004,\n",
       "  0.23822216351416758,\n",
       "  0.2947129566876633,\n",
       "  0.13104151068143977,\n",
       "  0.24099552378143532,\n",
       "  0.32981773476077303,\n",
       "  0.2253793543885756,\n",
       "  0.21278692715277686,\n",
       "  0.19813963780026522,\n",
       "  0.15590551351271717,\n",
       "  0.17753993034415985,\n",
       "  0.28369419896272646,\n",
       "  0.20168829400936697,\n",
       "  0.24845719426104484,\n",
       "  0.23957482662740198,\n",
       "  0.2166495574837777,\n",
       "  0.24111476272743104,\n",
       "  0.22475940120021773,\n",
       "  0.2219329463711113,\n",
       "  0.26397198524648646,\n",
       "  0.23714374103952435,\n",
       "  0.25396377154276667,\n",
       "  0.257711289925874,\n",
       "  0.22263070315598868,\n",
       "  0.18030732314969106,\n",
       "  0.26536433064249776,\n",
       "  0.14735961192108243,\n",
       "  0.23423735742192714,\n",
       "  0.322366987315763,\n",
       "  0.16992948574035296],\n",
       " 'MYEGA': [0.23813482487623983,\n",
       "  0.2553054540352483,\n",
       "  0.3028822672667079,\n",
       "  0.142924463805174,\n",
       "  0.2682931407723331,\n",
       "  0.3356109508866782,\n",
       "  0.23248073207421413,\n",
       "  0.23337254414179978,\n",
       "  0.21678080332184368,\n",
       "  0.18773459738755513,\n",
       "  0.18618392744576615,\n",
       "  0.3004606181508785,\n",
       "  0.21598861355088703,\n",
       "  0.26026676685436057,\n",
       "  0.2632679794594234,\n",
       "  0.2299414159065037,\n",
       "  0.2559157956579626,\n",
       "  0.24415921154031212,\n",
       "  0.22553188594997237,\n",
       "  0.2875444571428675,\n",
       "  0.2593114198155497,\n",
       "  0.2534832236038942,\n",
       "  0.2716559043214046,\n",
       "  0.24603454063003252,\n",
       "  0.20067745048949195,\n",
       "  0.2890645715384834,\n",
       "  0.16964159852362093,\n",
       "  0.23733284607406382,\n",
       "  0.334516274893847,\n",
       "  0.1787915603241743],\n",
       " 'CW': [0.22271916246933193,\n",
       "  0.2382221636799987,\n",
       "  0.2947129568808353,\n",
       "  0.13104150675864562,\n",
       "  0.24099552041528688,\n",
       "  0.3298177333056215,\n",
       "  0.22537935439967066,\n",
       "  0.2127869288674133,\n",
       "  0.19813964249640406,\n",
       "  0.15590551204714245,\n",
       "  0.17753992863581752,\n",
       "  0.28369419938154955,\n",
       "  0.2016882909012423,\n",
       "  0.24845719290686671,\n",
       "  0.23957482799386448,\n",
       "  0.21664955743878322,\n",
       "  0.2411147657227709,\n",
       "  0.22475939927345315,\n",
       "  0.22193294650194398,\n",
       "  0.26397198560985763,\n",
       "  0.23714374276687183,\n",
       "  0.25396377136221143,\n",
       "  0.25771128875094107,\n",
       "  0.22263070253263478,\n",
       "  0.18030732089428242,\n",
       "  0.2653643327541915,\n",
       "  0.1473596099311434,\n",
       "  0.2342373581243239,\n",
       "  0.32236698762300225,\n",
       "  0.16992948530000046]}"
      ]
     },
     "execution_count": 18,
     "metadata": {},
     "output_type": "execute_result"
    }
   ],
   "source": [
    "scores"
   ]
  },
  {
   "cell_type": "code",
   "execution_count": 15,
   "id": "b0574c8c-8664-41f7-a06a-39536b214376",
   "metadata": {},
   "outputs": [
    {
     "ename": "NameError",
     "evalue": "name 'score1' is not defined",
     "output_type": "error",
     "traceback": [
      "\u001b[1;31m---------------------------------------------------------------------------\u001b[0m",
      "\u001b[1;31mNameError\u001b[0m                                 Traceback (most recent call last)",
      "Cell \u001b[1;32mIn [15], line 1\u001b[0m\n\u001b[1;32m----> 1\u001b[0m stats\u001b[38;5;241m.\u001b[39mshapiro(\u001b[43mscore1\u001b[49m), stats\u001b[38;5;241m.\u001b[39mshapiro(score2), stats\u001b[38;5;241m.\u001b[39mshapiro(score3), stats\u001b[38;5;241m.\u001b[39mshapiro(score4)\n",
      "\u001b[1;31mNameError\u001b[0m: name 'score1' is not defined"
     ]
    }
   ],
   "source": [
    "stats.shapiro(score1), stats.shapiro(score2), stats.shapiro(score3), stats.shapiro(score4)"
   ]
  },
  {
   "cell_type": "code",
   "execution_count": null,
   "id": "0c4e8182-2cb5-4a38-b1d9-64b6b83c1d84",
   "metadata": {},
   "outputs": [],
   "source": [
    "stats.levene(score1, score2, score3, score4)"
   ]
  },
  {
   "cell_type": "code",
   "execution_count": 16,
   "id": "41428fd9-c6e0-4ce6-a430-6e3b7652c92d",
   "metadata": {},
   "outputs": [
    {
     "ename": "NameError",
     "evalue": "name 'score1' is not defined",
     "output_type": "error",
     "traceback": [
      "\u001b[1;31m---------------------------------------------------------------------------\u001b[0m",
      "\u001b[1;31mNameError\u001b[0m                                 Traceback (most recent call last)",
      "Cell \u001b[1;32mIn [16], line 2\u001b[0m\n\u001b[0;32m      1\u001b[0m testes \u001b[38;5;241m=\u001b[39m {\n\u001b[1;32m----> 2\u001b[0m     \u001b[38;5;124m'\u001b[39m\u001b[38;5;124mANOVA\u001b[39m\u001b[38;5;124m'\u001b[39m : stats\u001b[38;5;241m.\u001b[39mf_oneway(\u001b[43mscore1\u001b[49m,score2,score3, score4),\n\u001b[0;32m      3\u001b[0m     }\n\u001b[0;32m      5\u001b[0m \u001b[38;5;28mprint\u001b[39m(\u001b[38;5;124m'\u001b[39m\u001b[38;5;124mSignificância 0.05\u001b[39m\u001b[38;5;124m'\u001b[39m)\n\u001b[0;32m      6\u001b[0m \u001b[38;5;28;01mfor\u001b[39;00m teste, estatistica \u001b[38;5;129;01min\u001b[39;00m testes\u001b[38;5;241m.\u001b[39mitems():\n",
      "\u001b[1;31mNameError\u001b[0m: name 'score1' is not defined"
     ]
    }
   ],
   "source": [
    "testes = {\n",
    "    'ANOVA' : stats.f_oneway(score1,score2,score3, score4),\n",
    "    }\n",
    "\n",
    "print('Significância 0.05')\n",
    "for teste, estatistica in testes.items():\n",
    "    pvalor = estatistica.pvalue\n",
    "    print(f'Para o teste {teste}, o P-valor foi: {pvalor}')"
   ]
  },
  {
   "cell_type": "code",
   "execution_count": 9,
   "id": "ba46ebbb-0aed-4f98-887f-08d3c3c8c623",
   "metadata": {},
   "outputs": [],
   "source": [
    "tukey = stats.tukey_hsd(score1,score2,score3, score4)"
   ]
  },
  {
   "cell_type": "code",
   "execution_count": 10,
   "id": "aa1fa62a-9f9d-4781-92ae-37e29a764d18",
   "metadata": {},
   "outputs": [
    {
     "name": "stdout",
     "output_type": "stream",
     "text": [
      "Tukey's HSD Pairwise Group Comparisons (95.0% Confidence Interval)\n",
      "Comparison  Statistic  p-value  Lower CI  Upper CI\n",
      " (0 - 1)      0.058     0.000     0.027     0.090\n",
      " (0 - 2)      0.043     0.003     0.011     0.074\n",
      " (0 - 3)      0.058     0.000     0.027     0.090\n",
      " (1 - 0)     -0.058     0.000    -0.090    -0.027\n",
      " (1 - 2)     -0.015     0.576    -0.047     0.016\n",
      " (1 - 3)      0.000     1.000    -0.031     0.031\n",
      " (2 - 0)     -0.043     0.003    -0.074    -0.011\n",
      " (2 - 1)      0.015     0.576    -0.016     0.047\n",
      " (2 - 3)      0.015     0.576    -0.016     0.047\n",
      " (3 - 0)     -0.058     0.000    -0.090    -0.027\n",
      " (3 - 1)     -0.000     1.000    -0.031     0.031\n",
      " (3 - 2)     -0.015     0.576    -0.047     0.016\n",
      "\n"
     ]
    }
   ],
   "source": [
    "print(tukey)"
   ]
  },
  {
   "cell_type": "code",
   "execution_count": 11,
   "id": "9e5f3ceb-dd97-4c7c-b4b2-8583b80bab6e",
   "metadata": {},
   "outputs": [],
   "source": [
    "resultado = tukey.pvalue"
   ]
  },
  {
   "cell_type": "code",
   "execution_count": 12,
   "id": "8eaf8dc9-6a4c-4513-a8a1-95fcd99012a9",
   "metadata": {},
   "outputs": [
    {
     "name": "stdout",
     "output_type": "stream",
     "text": [
      "[[1.00000000e+00 2.38282112e-05 3.01905940e-03 2.38282094e-05]\n",
      " [2.38282112e-05 1.00000000e+00 5.75793792e-01 1.00000000e+00]\n",
      " [3.01905940e-03 5.75793792e-01 1.00000000e+00 5.75793780e-01]\n",
      " [2.38282094e-05 1.00000000e+00 5.75793780e-01 1.00000000e+00]]\n"
     ]
    }
   ],
   "source": [
    "print(resultado)"
   ]
  },
  {
   "cell_type": "code",
   "execution_count": null,
   "id": "f6bcd3e8-fa51-45b2-b9bf-6d924e7231de",
   "metadata": {},
   "outputs": [],
   "source": []
  }
 ],
 "metadata": {
  "kernelspec": {
   "display_name": "ilumpy",
   "language": "python",
   "name": "ilumpy"
  },
  "language_info": {
   "codemirror_mode": {
    "name": "ipython",
    "version": 3
   },
   "file_extension": ".py",
   "mimetype": "text/x-python",
   "name": "python",
   "nbconvert_exporter": "python",
   "pygments_lexer": "ipython3",
   "version": "3.10.8"
  }
 },
 "nbformat": 4,
 "nbformat_minor": 5
}

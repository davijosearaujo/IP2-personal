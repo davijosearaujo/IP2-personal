{
 "cells": [
  {
   "cell_type": "markdown",
   "id": "e7dcf294-61d6-4876-97c4-0f35151eb349",
   "metadata": {},
   "source": [
    "## Ajustando Dados a Modelos de Viscosidade"
   ]
  },
  {
   "cell_type": "markdown",
   "id": "33e8fa5a-03c3-4209-b089-3e70af33553c",
   "metadata": {},
   "source": [
    "Recebemos medidas experimentais de viscosidade em função da temperatura. Neste notebook, fizemos o ajuste (fit) de curvas de modelos de viscosidade clássicos (AM, VFT e MYEGA) aos dados recebidos."
   ]
  },
  {
   "cell_type": "markdown",
   "id": "ee806a7f-6581-4fa2-aa07-f370eeefd3b6",
   "metadata": {},
   "source": [
    "### Recebendo e plotando os dados:"
   ]
  },
  {
   "cell_type": "code",
   "execution_count": 1,
   "id": "0f70b53a-2e7b-4503-b242-492471aaaccf",
   "metadata": {},
   "outputs": [],
   "source": [
    "import pandas as pd\n",
    "import numpy as np\n",
    "import scipy\n",
    "import matplotlib.pyplot as plt"
   ]
  },
  {
   "cell_type": "code",
   "execution_count": 2,
   "id": "1611a541-5dc4-49e5-bff7-460c383833cc",
   "metadata": {},
   "outputs": [],
   "source": [
    "dados = pd.read_excel('CaMgSi2O6.xlsx')\n",
    "dados = dados.sort_values('temp [K]')\n",
    "x = np.array(dados['temp [K]'])\n",
    "y_log = np.array(dados['visc [log10 Pa.s]'])"
   ]
  },
  {
   "cell_type": "code",
   "execution_count": 3,
   "id": "b1a41127-3f7f-4873-b973-e3e65ebeb101",
   "metadata": {},
   "outputs": [
    {
     "data": {
      "image/png": "[encoded data removed]",
      "text/plain": [
       "<Figure size 640x480 with 1 Axes>"
      ]
     },
     "metadata": {},
     "output_type": "display_data"
    }
   ],
   "source": [
    "plt.plot(x, y_log, '.', label = \"Dados viscosidade\")\n",
    "plt.title('Visualização dos dados experimentais')\n",
    "plt.xlabel(\"Temperatura\")\n",
    "plt.ylabel(\"Logaritmo da viscosidade\")\n",
    "plt.show()"
   ]
  },
  {
   "cell_type": "markdown",
   "id": "8a880a57-643d-48de-a35e-1907e5852947",
   "metadata": {},
   "source": [
    "### Definindo as funções matemáticas dos modelos abordados:"
   ]
  },
  {
   "cell_type": "markdown",
   "id": "c7dcc5fe-cbc5-4b1a-961e-d9ea8e3f8709",
   "metadata": {},
   "source": [
    "Aqui definimos as funções analíticas dos modelos com base no notebook elaborado e disponibilizado pelo orientador Daniel R. Cassar e na referência [1]."
   ]
  },
  {
   "cell_type": "code",
   "execution_count": 4,
   "id": "b83df81b-c384-464c-8dcb-8711eba29f27",
   "metadata": {},
   "outputs": [],
   "source": [
    "def VFT(T, log_eta_inf, m, Tg):\n",
    "    \"Implementando a equação do modelo VFT\"\n",
    "    B= (Tg * (12 - log_eta_inf)**2)/m\n",
    "    T0= Tg * (1 - (12 - log_eta_inf)/m)\n",
    "    log_viscosidade = log_eta_inf + B / (T - T0)\n",
    "    return log_viscosidade"
   ]
  },
  {
   "cell_type": "code",
   "execution_count": 5,
   "id": "ddaed86e-5501-4bb4-ad4e-03fd81d2f3bc",
   "metadata": {},
   "outputs": [],
   "source": [
    "def AM(T, log_eta_inf, m, Tg):\n",
    "    \"Implementando a equação do modelo Avramov-Milchev\"\n",
    "    \n",
    "    a = m/(12 - log_eta_inf)\n",
    "    B = Tg * (np.log(10)*(12 - log_eta_inf)) ** ((12 - log_eta_inf)/m)\n",
    "    log_viscosidade = log_eta_inf + (B/T) ** a\n",
    "    \n",
    "    return log_viscosidade"
   ]
  },
  {
   "cell_type": "code",
   "execution_count": 6,
   "id": "50a16fc1-5f87-464f-af1e-e8aa05132825",
   "metadata": {},
   "outputs": [],
   "source": [
    "def MYEGA(T, log_eta_inf, m, Tg):\n",
    "    \"Implementendo equação do modelo MYEGA\"\n",
    "    \n",
    "    log_viscosidade = log_eta_inf + (12 - log_eta_inf) * (Tg/T) * np.exp((((m/(12 - log_eta_inf)) - 1) * ((Tg/T)-1)))\n",
    "    \n",
    "    return log_viscosidade"
   ]
  },
  {
   "cell_type": "code",
   "execution_count": 7,
   "id": "df5183d8-f9ab-476c-8c18-886e79fa6875",
   "metadata": {
    "tags": []
   },
   "outputs": [],
   "source": [
    "def CW(T, log_eta_inf, m, Tg):\n",
    "    \"Implementendo equação do modelo Cornelissen-Waterman\"\n",
    "    \n",
    "    a = m/(12 - log_eta_inf)\n",
    "    B = (12 - log_eta_inf) * (Tg **(m/(12 - log_eta_inf)))\n",
    "    log_viscosidade = log_eta_inf + B/(T**a)\n",
    "    \n",
    "    return log_viscosidade"
   ]
  },
  {
   "cell_type": "code",
   "execution_count": 8,
   "id": "d359aeb4-f4da-4311-97fb-40045a87e759",
   "metadata": {},
   "outputs": [],
   "source": [
    "def F2(T, log_eta_inf, m, Tg):\n",
    "    \"Equação do modelo de Fulcher: expressão 2\"\n",
    "    \n",
    "    B = ((Tg**2)/3) * (m + 12 - log_eta_inf)\n",
    "    C = (24 - 2 * log_eta_inf - m)/(3 * Tg)\n",
    "    \n",
    "    log_viscosidade = log_eta_inf + B/(T**2) + C * T\n",
    "    \n",
    "    return log_viscosidade"
   ]
  },
  {
   "cell_type": "code",
   "execution_count": 9,
   "id": "1936be65-786a-4541-9383-792717ff45fe",
   "metadata": {},
   "outputs": [],
   "source": [
    "def F3(T, log_eta_inf, m, Tg):\n",
    "    \"Equação do modelo de Fulcher: expressão 3\"\n",
    "    \n",
    "    C = (24 - 2 * log_eta_inf - m)/(2*np.log10(Tg) + (1/np.log(10)))\n",
    "    B = (12 - log_eta_inf - C * np.log10(Tg) ) * Tg**2\n",
    "    \n",
    "    log_viscosidade = log_eta_inf + B/(T**2) + C * np.log10(T)\n",
    "    \n",
    "    return log_viscosidade"
   ]
  },
  {
   "cell_type": "code",
   "execution_count": 10,
   "id": "28fd1920-9560-42ad-9d70-f209f00ef4c0",
   "metadata": {},
   "outputs": [],
   "source": [
    "def F4(T, log_eta_inf, m, Tg):\n",
    "    \"Equação do modelo de Fulcher: expressão 4\"\n",
    "    \n",
    "    T0 = Tg * (1 - (24 - 2 * log_eta_inf )/m)\n",
    "    \n",
    "    B = 4 * Tg * ((12 - log_eta_inf)**3)/(m**2)\n",
    "    \n",
    "    log_viscosidade = log_eta_inf + B / ((T - T0)**2)\n",
    "    \n",
    "    return log_viscosidade"
   ]
  },
  {
   "cell_type": "code",
   "execution_count": 11,
   "id": "8a3ca19d-6a3b-42f2-90aa-0f0e7ad05edb",
   "metadata": {},
   "outputs": [],
   "source": [
    "def CLU(T, log_eta_inf, m, Tg):\n",
    "    \"Implementando equação de Cukierman-Lane-Uhlmann\"\n",
    "    a = Tg/(m + (1/(2*np.log(10))))\n",
    "    T0 = Tg - (12 - log_eta_inf - (np.log10(Tg)/2)) * a\n",
    "    B = ((12 - log_eta_inf - (np.log10(Tg)/2))**2) * a\n",
    "    log_viscosidade = log_eta_inf + (np.log10(T)/2) + B/(T - T0)\n",
    "    return log_viscosidade"
   ]
  },
  {
   "cell_type": "code",
   "execution_count": 12,
   "id": "f2438786-918b-4327-b5f4-ce141fd66352",
   "metadata": {},
   "outputs": [],
   "source": [
    "def BS(T, log_eta_inf, m, Tg):\n",
    "    \"Implementando equação de Blender e Shlesinger\"\n",
    "    a = (3*(12 - log_eta_inf))/2*m\n",
    "    T0 = Tg * (1 - a)\n",
    "    B = Tg * (12 - log_eta_inf) * (a ** (3/2))\n",
    "    log_viscosidade = log_eta_inf + B/((T - T0)**(3/2))\n",
    "    return log_viscosidade"
   ]
  },
  {
   "cell_type": "code",
   "execution_count": 13,
   "id": "ca9592be-becf-4f24-aaab-c2ed4860f079",
   "metadata": {},
   "outputs": [],
   "source": [
    "def Bassler(T, log_eta_inf, m, Tg):\n",
    "    \"Implementando equação de Bässler\"\n",
    "    B = Tg * np.sqrt(12 - log_eta_inf)\n",
    "    log_viscosidade = log_eta_inf + (B/T)**2\n",
    "    return log_viscosidade"
   ]
  },
  {
   "cell_type": "code",
   "execution_count": 14,
   "id": "55af89a5-1fab-4456-872f-3347dd92e8ed",
   "metadata": {},
   "outputs": [],
   "source": [
    "def FF(T, log_eta_inf, m, Tg):\n",
    "    \"Modelo de Fan & Fecht\"\n",
    "    B = (Tg/2)*(m + 12 - log_eta_inf)\n",
    "    C = (12 - log_eta_inf - m)/(2 * Tg)\n",
    "    log_viscosidade = log_eta_inf + B/T  + C * T\n",
    "    \n",
    "    return log_viscosidade"
   ]
  },
  {
   "cell_type": "code",
   "execution_count": 15,
   "id": "20a96e33-ecd0-4ac6-a41a-7edbb92f88c2",
   "metadata": {},
   "outputs": [],
   "source": [
    "def Demetriou_et_al(T, log_eta_inf, m, Tg):\n",
    "    \"Modelo de Demetriou, Harmon, Tao, Duan, Samwer e Johnson\"\n",
    "    a = ((m/(12 - log_eta_inf)) - 1)\n",
    "    Tw = Tg / a\n",
    "    B = Tg * (12 - log_eta_inf) * np.exp(a)\n",
    "    log_viscosidade = log_eta_inf + (B/T) * np.exp(-(T/Tw))\n",
    "    return log_viscosidade"
   ]
  },
  {
   "cell_type": "markdown",
   "id": "441cab61-6eda-4725-86bd-63d6d789f63b",
   "metadata": {
    "tags": []
   },
   "source": [
    "### Criando instâncias dos modelos:"
   ]
  },
  {
   "cell_type": "markdown",
   "id": "c6237396-4ee3-4da2-b3fc-4ef184a24048",
   "metadata": {},
   "source": [
    "Com o módulo lmfit criamos instâncias dos modelos, assim definimos quem são as variáveis independentes em cada modelo, e os parâmetros que desejamos encontrar para ajustar as curvas."
   ]
  },
  {
   "cell_type": "code",
   "execution_count": null,
   "id": "d67d5c3c-d10d-493a-8945-b3a854056bef",
   "metadata": {},
   "outputs": [],
   "source": []
  },
  {
   "cell_type": "code",
   "execution_count": 16,
   "id": "77b9e434-24e2-4e62-95d1-bcac298127a8",
   "metadata": {},
   "outputs": [
    {
     "name": "stdout",
     "output_type": "stream",
     "text": [
      "Variável independente: ['T']\n",
      "Parâmetros do modelo: ['log_eta_inf', 'm', 'Tg']\n"
     ]
    }
   ],
   "source": [
    "from lmfit import Model\n",
    "\n",
    "modelo_VFT = Model(VFT)\n",
    "\n",
    "print(f'Variável independente: {modelo_VFT.independent_vars}')\n",
    "print(f'Parâmetros do modelo: {modelo_VFT.param_names}')"
   ]
  },
  {
   "cell_type": "code",
   "execution_count": 17,
   "id": "1f6c26cf-4337-4543-a232-2ca613295233",
   "metadata": {},
   "outputs": [
    {
     "name": "stdout",
     "output_type": "stream",
     "text": [
      "Variável independente: ['T']\n",
      "Parâmetros do modelo: ['log_eta_inf', 'm', 'Tg']\n"
     ]
    }
   ],
   "source": [
    "modelo_AM = Model(AM)\n",
    "\n",
    "print(f'Variável independente: {modelo_AM.independent_vars}')\n",
    "print(f'Parâmetros do modelo: {modelo_AM.param_names}')"
   ]
  },
  {
   "cell_type": "code",
   "execution_count": 18,
   "id": "796828e2-8d57-4012-b8b6-ad6e6d579c55",
   "metadata": {},
   "outputs": [
    {
     "name": "stdout",
     "output_type": "stream",
     "text": [
      "Variável independente: ['T']\n",
      "Parâmetros do modelo: ['log_eta_inf', 'm', 'Tg']\n"
     ]
    }
   ],
   "source": [
    "modelo_MYEGA = Model(MYEGA)\n",
    "\n",
    "print(f'Variável independente: {modelo_MYEGA.independent_vars}')\n",
    "print(f'Parâmetros do modelo: {modelo_MYEGA.param_names}')"
   ]
  },
  {
   "cell_type": "code",
   "execution_count": 19,
   "id": "4f481a31-0edd-406f-9ac2-d0145000f91a",
   "metadata": {},
   "outputs": [
    {
     "name": "stdout",
     "output_type": "stream",
     "text": [
      "Variável independente: ['T']\n",
      "Parâmetros do modelo: ['log_eta_inf', 'm', 'Tg']\n"
     ]
    }
   ],
   "source": [
    "modelo_CW = Model(CW)\n",
    "\n",
    "print(f'Variável independente: {modelo_CW.independent_vars}')\n",
    "print(f'Parâmetros do modelo: {modelo_CW.param_names}')"
   ]
  },
  {
   "cell_type": "code",
   "execution_count": 20,
   "id": "eb5777fa-46cd-4a79-a44b-586707c284dd",
   "metadata": {},
   "outputs": [
    {
     "name": "stdout",
     "output_type": "stream",
     "text": [
      "Variável independente: ['T']\n",
      "Parâmetros do modelo: ['log_eta_inf', 'm', 'Tg']\n"
     ]
    }
   ],
   "source": [
    "modelo_F2 = Model(F2)\n",
    "\n",
    "print(f'Variável independente: {modelo_F2.independent_vars}')\n",
    "print(f'Parâmetros do modelo: {modelo_F2.param_names}')"
   ]
  },
  {
   "cell_type": "code",
   "execution_count": 21,
   "id": "fb30f1e7-f1b8-4b15-9ffb-be5632d7acb6",
   "metadata": {},
   "outputs": [
    {
     "name": "stdout",
     "output_type": "stream",
     "text": [
      "Variável independente: ['T']\n",
      "Parâmetros do modelo: ['log_eta_inf', 'm', 'Tg']\n"
     ]
    }
   ],
   "source": [
    "modelo_F3 = Model(F3)\n",
    "\n",
    "print(f'Variável independente: {modelo_F3.independent_vars}')\n",
    "print(f'Parâmetros do modelo: {modelo_F3.param_names}')"
   ]
  },
  {
   "cell_type": "code",
   "execution_count": 22,
   "id": "044356a7-5f59-4038-b20f-e5906939ce26",
   "metadata": {},
   "outputs": [
    {
     "name": "stdout",
     "output_type": "stream",
     "text": [
      "Variável independente: ['T']\n",
      "Parâmetros do modelo: ['log_eta_inf', 'm', 'Tg']\n"
     ]
    }
   ],
   "source": [
    "modelo_F4 = Model(F4)\n",
    "\n",
    "print(f'Variável independente: {modelo_F4.independent_vars}')\n",
    "print(f'Parâmetros do modelo: {modelo_F4.param_names}')"
   ]
  },
  {
   "cell_type": "code",
   "execution_count": 23,
   "id": "808dc1a2-4e17-4944-9b59-a315d19ef4fd",
   "metadata": {},
   "outputs": [
    {
     "name": "stdout",
     "output_type": "stream",
     "text": [
      "Variável independente: ['T']\n",
      "Parâmetros do modelo: ['log_eta_inf', 'm', 'Tg']\n"
     ]
    }
   ],
   "source": [
    "modelo_CLU = Model(CLU)\n",
    "\n",
    "print(f'Variável independente: {modelo_CLU.independent_vars}')\n",
    "print(f'Parâmetros do modelo: {modelo_CLU.param_names}')"
   ]
  },
  {
   "cell_type": "code",
   "execution_count": 24,
   "id": "815aeb2e-e12e-46f8-805f-a10c9352bc3e",
   "metadata": {},
   "outputs": [
    {
     "name": "stdout",
     "output_type": "stream",
     "text": [
      "Variável independente: ['T']\n",
      "Parâmetros do modelo: ['log_eta_inf', 'm', 'Tg']\n"
     ]
    }
   ],
   "source": [
    "modelo_BS = Model(BS)\n",
    "\n",
    "print(f'Variável independente: {modelo_BS.independent_vars}')\n",
    "print(f'Parâmetros do modelo: {modelo_BS.param_names}')"
   ]
  },
  {
   "cell_type": "code",
   "execution_count": 25,
   "id": "31b46c9e-2391-461b-b861-fb80300c928f",
   "metadata": {},
   "outputs": [
    {
     "name": "stdout",
     "output_type": "stream",
     "text": [
      "Variável independente: ['T']\n",
      "Parâmetros do modelo: ['log_eta_inf', 'm', 'Tg']\n"
     ]
    }
   ],
   "source": [
    "modelo_Bassler = Model(Bassler)\n",
    "\n",
    "print(f'Variável independente: {modelo_Bassler.independent_vars}')\n",
    "print(f'Parâmetros do modelo: {modelo_Bassler.param_names}')"
   ]
  },
  {
   "cell_type": "code",
   "execution_count": 26,
   "id": "400559a1-fd20-47e2-9b23-09fd675d3027",
   "metadata": {},
   "outputs": [
    {
     "name": "stdout",
     "output_type": "stream",
     "text": [
      "Variável independente: ['T']\n",
      "Parâmetros do modelo: ['log_eta_inf', 'm', 'Tg']\n"
     ]
    }
   ],
   "source": [
    "modelo_FF = Model(FF)\n",
    "\n",
    "print(f'Variável independente: {modelo_FF.independent_vars}')\n",
    "print(f'Parâmetros do modelo: {modelo_FF.param_names}')"
   ]
  },
  {
   "cell_type": "code",
   "execution_count": 27,
   "id": "2234e270-285d-4826-8e77-f4538a8cc785",
   "metadata": {},
   "outputs": [
    {
     "name": "stdout",
     "output_type": "stream",
     "text": [
      "Variável independente: ['T']\n",
      "Parâmetros do modelo: ['log_eta_inf', 'm', 'Tg']\n"
     ]
    }
   ],
   "source": [
    "modelo_Demetriou = Model(Demetriou_et_al)\n",
    "\n",
    "print(f'Variável independente: {modelo_Demetriou.independent_vars}')\n",
    "print(f'Parâmetros do modelo: {modelo_Demetriou.param_names}')"
   ]
  },
  {
   "cell_type": "code",
   "execution_count": null,
   "id": "8c9a85d6-56b2-4676-9795-4a96305e75d3",
   "metadata": {},
   "outputs": [],
   "source": []
  },
  {
   "cell_type": "markdown",
   "id": "a5b233a5-8422-4a60-bdec-1ad8dc3acd40",
   "metadata": {},
   "source": [
    "### Parâmetros"
   ]
  },
  {
   "cell_type": "markdown",
   "id": "7737a923-3e73-4ca4-b878-ae7195a52247",
   "metadata": {},
   "source": [
    "Aqui definimos os parâmetros iniciais (palpites) que servirão de base para o fit. Os valores foram retirados das duas referências [1], [2]. Para fins didáticos, durante a elaboração deste notebook, testamos valores arbitrários diferentes para fazer comparações e análise dos resultados."
   ]
  },
  {
   "cell_type": "code",
   "execution_count": 28,
   "id": "7f8377bc-5bff-4181-ac7c-07edd4d62a69",
   "metadata": {},
   "outputs": [],
   "source": [
    "params = modelo_VFT.make_params(log_eta_inf= -4, m=60, Tg=1000)\n",
    "params2 = modelo_AM.make_params(log_eta_inf= -4, m=60, Tg=500)\n",
    "params3 = modelo_MYEGA.make_params(log_eta_inf= -4, m= 60, Tg = 500)\n",
    "params4 = modelo_CW.make_params(log_eta_inf= -4, m= 60, Tg = 500)\n",
    "params5 = modelo_F2.make_params(log_eta_inf= -4, m= 60, Tg = 500)\n",
    "params6 = modelo_F3.make_params(log_eta_inf= -4, m= 60, Tg = 500)\n",
    "params7 = modelo_F4.make_params(log_eta_inf= 1, m= 60, Tg = 1000)\n",
    "params8 = modelo_CLU.make_params(log_eta_inf= -4, m= 60, Tg = 1000)\n",
    "params9 = modelo_BS.make_params(log_eta_inf= 10, m= 60, Tg = 1000)\n",
    "params10 = modelo_Bassler.make_params(log_eta_inf= -4, m= 60, Tg = 500)\n",
    "params11 = modelo_Demetriou.make_params(log_eta_inf= -4, m= 60, Tg = 500)"
   ]
  },
  {
   "cell_type": "markdown",
   "id": "03ab238f-a90c-4b1e-9621-fb8e8fb69781",
   "metadata": {},
   "source": [
    "### Regressão não-linear:"
   ]
  },
  {
   "cell_type": "markdown",
   "id": "284991e7-ca03-40b9-bc4e-a21ffe81c054",
   "metadata": {},
   "source": [
    "Com o método fit encontramos os melhores parâmetros para ajustar a curva aos dados, desde que o palpite inicial torne isso possível. Também mostramos os resultados do fit. O \"chi-square\" é uma maneira de avaliar qual modelo ajustou melhor os dados (quanto menor melhor)."
   ]
  },
  {
   "cell_type": "code",
   "execution_count": 29,
   "id": "a8c0366b-aaa0-4d33-9f1d-0f74dfc000c7",
   "metadata": {},
   "outputs": [
    {
     "name": "stdout",
     "output_type": "stream",
     "text": [
      "[[Model]]\n",
      "    Model(VFT)\n",
      "[[Fit Statistics]]\n",
      "    # fitting method   = leastsq\n",
      "    # function evals   = 13\n",
      "    # data points      = 332\n",
      "    # variables        = 3\n",
      "    chi-square         = 27.1997103\n",
      "    reduced chi-square = 0.08267389\n",
      "    Akaike info crit   = -824.640311\n",
      "    Bayesian info crit = -813.224906\n",
      "[[Variables]]\n",
      "    log_eta_inf: -3.46114320 +/- 0.08897547 (2.57%) (init = -4)\n",
      "    m:            63.3437445 +/- 0.68940440 (1.09%) (init = 60)\n",
      "    Tg:           995.261911 +/- 0.50646767 (0.05%) (init = 1000)\n",
      "[[Correlations]] (unreported correlations are < 0.100)\n",
      "    C(m, Tg)           = 0.702\n",
      "    C(log_eta_inf, m)  = 0.574\n",
      "    C(log_eta_inf, Tg) = 0.293\n"
     ]
    }
   ],
   "source": [
    "resultado_fit = modelo_VFT.fit(y_log, params, T=x)\n",
    "print(resultado_fit.fit_report())"
   ]
  },
  {
   "cell_type": "code",
   "execution_count": 30,
   "id": "52443632-a57b-4ef2-841e-4badfb17c389",
   "metadata": {},
   "outputs": [
    {
     "data": {
      "text/html": [
       "<table><tr><th> name </th><th> value </th><th> standard error </th><th> relative error </th><th> initial value </th><th> min </th><th> max </th><th> vary </th></tr><tr><td> log_eta_inf </td><td> -3.46114320 </td><td>  0.08897547 </td><td> (2.57%) </td><td> -4 </td><td>        -inf </td><td>         inf </td><td> True </td></tr><tr><td> m </td><td>  63.3437445 </td><td>  0.68940440 </td><td> (1.09%) </td><td> 60 </td><td>        -inf </td><td>         inf </td><td> True </td></tr><tr><td> Tg </td><td>  995.261911 </td><td>  0.50646767 </td><td> (0.05%) </td><td> 1000 </td><td>        -inf </td><td>         inf </td><td> True </td></tr></table>"
      ],
      "text/plain": [
       "Parameters([('log_eta_inf', <Parameter 'log_eta_inf', value=-3.461143195009221 +/- 0.089, bounds=[-inf:inf]>), ('m', <Parameter 'm', value=63.34374454442814 +/- 0.689, bounds=[-inf:inf]>), ('Tg', <Parameter 'Tg', value=995.2619110869449 +/- 0.506, bounds=[-inf:inf]>)])"
      ]
     },
     "execution_count": 30,
     "metadata": {},
     "output_type": "execute_result"
    }
   ],
   "source": [
    "resultado_fit.params"
   ]
  },
  {
   "cell_type": "code",
   "execution_count": 31,
   "id": "23ac105e-2639-4e71-93a4-16c09eb08abd",
   "metadata": {},
   "outputs": [
    {
     "data": {
      "text/plain": [
       "63.34374454442814"
      ]
     },
     "execution_count": 31,
     "metadata": {},
     "output_type": "execute_result"
    }
   ],
   "source": [
    "resultado_fit.params['m'].value"
   ]
  },
  {
   "cell_type": "code",
   "execution_count": 32,
   "id": "7ede798b-e0a8-49eb-846a-caee580aee4e",
   "metadata": {},
   "outputs": [
    {
     "name": "stdout",
     "output_type": "stream",
     "text": [
      "[[Model]]\n",
      "    Model(AM)\n",
      "[[Fit Statistics]]\n",
      "    # fitting method   = leastsq\n",
      "    # function evals   = 51\n",
      "    # data points      = 332\n",
      "    # variables        = 3\n",
      "    chi-square         = 17.2202078\n",
      "    reduced chi-square = 0.05234106\n",
      "    Akaike info crit   = -976.405066\n",
      "    Bayesian info crit = -964.989661\n",
      "[[Variables]]\n",
      "    log_eta_inf: -0.80050535 +/- 0.05072761 (6.34%) (init = -4)\n",
      "    m:            59.7940623 +/- 0.49883551 (0.83%) (init = 60)\n",
      "    Tg:           832.944128 +/- 1.87000444 (0.22%) (init = 500)\n",
      "[[Correlations]] (unreported correlations are < 0.100)\n",
      "    C(m, Tg)           = 0.956\n",
      "    C(log_eta_inf, Tg) = 0.672\n",
      "    C(log_eta_inf, m)  = 0.456\n"
     ]
    }
   ],
   "source": [
    "resultado_fit2 = modelo_AM.fit(y_log, params2, T = x)\n",
    "print(resultado_fit2.fit_report())"
   ]
  },
  {
   "cell_type": "code",
   "execution_count": 33,
   "id": "574ce123-6499-4bb2-8efc-88b85ad2fc80",
   "metadata": {},
   "outputs": [
    {
     "name": "stdout",
     "output_type": "stream",
     "text": [
      "[[Model]]\n",
      "    Model(MYEGA)\n",
      "[[Fit Statistics]]\n",
      "    # fitting method   = leastsq\n",
      "    # function evals   = 35\n",
      "    # data points      = 332\n",
      "    # variables        = 3\n",
      "    chi-square         = 19.6485764\n",
      "    reduced chi-square = 0.05972212\n",
      "    Akaike info crit   = -932.607186\n",
      "    Bayesian info crit = -921.191781\n",
      "[[Variables]]\n",
      "    log_eta_inf: -1.50479474 +/- 0.06905297 (4.59%) (init = -4)\n",
      "    m:            60.9350558 +/- 0.53766877 (0.88%) (init = 60)\n",
      "    Tg:           995.805430 +/- 0.45383330 (0.05%) (init = 500)\n",
      "[[Correlations]] (unreported correlations are < 0.100)\n",
      "    C(m, Tg)           = 0.750\n",
      "    C(log_eta_inf, m)  = 0.585\n",
      "    C(log_eta_inf, Tg) = 0.366\n"
     ]
    }
   ],
   "source": [
    "resultado_fit3 = modelo_MYEGA.fit(y_log, params3, T = x)\n",
    "print(resultado_fit3.fit_report())"
   ]
  },
  {
   "cell_type": "code",
   "execution_count": 34,
   "id": "11db1a66-1f5e-4045-8a26-26f3012e87be",
   "metadata": {},
   "outputs": [
    {
     "name": "stdout",
     "output_type": "stream",
     "text": [
      "[[Model]]\n",
      "    Model(CW)\n",
      "[[Fit Statistics]]\n",
      "    # fitting method   = leastsq\n",
      "    # function evals   = 43\n",
      "    # data points      = 332\n",
      "    # variables        = 3\n",
      "    chi-square         = 17.2202078\n",
      "    reduced chi-square = 0.05234106\n",
      "    Akaike info crit   = -976.405066\n",
      "    Bayesian info crit = -964.989661\n",
      "[[Variables]]\n",
      "    log_eta_inf: -0.80050570 +/- 0.05072744 (6.34%) (init = -4)\n",
      "    m:            59.7940578 +/- 0.49883541 (0.83%) (init = 60)\n",
      "    Tg:           995.767041 +/- 0.43511919 (0.04%) (init = 500)\n",
      "[[Correlations]] (unreported correlations are < 0.100)\n",
      "    C(m, Tg)           = 0.765\n",
      "    C(log_eta_inf, m)  = 0.456\n",
      "    C(log_eta_inf, Tg) = 0.279\n"
     ]
    }
   ],
   "source": [
    "resultado_fit4 = modelo_CW.fit(y_log, params4, T = x)\n",
    "print(resultado_fit4.fit_report())"
   ]
  },
  {
   "cell_type": "code",
   "execution_count": 35,
   "id": "e31403a0-15b6-4a5d-9752-0216ecc6f0b1",
   "metadata": {},
   "outputs": [
    {
     "name": "stdout",
     "output_type": "stream",
     "text": [
      "[[Model]]\n",
      "    Model(F2)\n",
      "[[Fit Statistics]]\n",
      "    # fitting method   = leastsq\n",
      "    # function evals   = 25\n",
      "    # data points      = 332\n",
      "    # variables        = 3\n",
      "    chi-square         = 42.2446116\n",
      "    reduced chi-square = 0.12840307\n",
      "    Akaike info crit   = -678.470509\n",
      "    Bayesian info crit = -667.055104\n",
      "[[Variables]]\n",
      "    log_eta_inf: -26.2435971 +/- 0.68713868 (2.62%) (init = -4)\n",
      "    m:            48.5710058 +/- 0.47717960 (0.98%) (init = 60)\n",
      "    Tg:           988.367372 +/- 0.75105719 (0.08%) (init = 500)\n",
      "[[Correlations]] (unreported correlations are < 0.100)\n",
      "    C(log_eta_inf, m)  = -0.978\n",
      "    C(m, Tg)           = 0.750\n",
      "    C(log_eta_inf, Tg) = -0.733\n"
     ]
    }
   ],
   "source": [
    "resultado_fit5 = modelo_F2.fit(y_log, params5, T=x)\n",
    "print(resultado_fit5.fit_report())"
   ]
  },
  {
   "cell_type": "code",
   "execution_count": 36,
   "id": "65721a17-2689-4045-867e-790efbd5cb2f",
   "metadata": {},
   "outputs": [
    {
     "name": "stdout",
     "output_type": "stream",
     "text": [
      "[[Model]]\n",
      "    Model(F3)\n",
      "[[Fit Statistics]]\n",
      "    # fitting method   = leastsq\n",
      "    # function evals   = 22\n",
      "    # data points      = 332\n",
      "    # variables        = 3\n",
      "    chi-square         = 30.5211793\n",
      "    reduced chi-square = 0.09276954\n",
      "    Akaike info crit   = -786.389089\n",
      "    Bayesian info crit = -774.973684\n",
      "[[Variables]]\n",
      "    log_eta_inf: -175.822814 +/- 4.46438598 (2.54%) (init = -4)\n",
      "    m:            51.3836980 +/- 0.45157822 (0.88%) (init = 60)\n",
      "    Tg:           990.980350 +/- 0.61864623 (0.06%) (init = 500)\n",
      "[[Correlations]] (unreported correlations are < 0.100)\n",
      "    C(log_eta_inf, m)  = -0.963\n",
      "    C(m, Tg)           = 0.758\n",
      "    C(log_eta_inf, Tg) = -0.729\n"
     ]
    }
   ],
   "source": [
    "resultado_fit6 = modelo_F3.fit(y_log, params6, T=x)\n",
    "print(resultado_fit6.fit_report())"
   ]
  },
  {
   "cell_type": "code",
   "execution_count": 37,
   "id": "f0cf31f1-4355-4300-af72-f80754e1610c",
   "metadata": {},
   "outputs": [
    {
     "name": "stdout",
     "output_type": "stream",
     "text": [
      "[[Model]]\n",
      "    Model(F4)\n",
      "[[Fit Statistics]]\n",
      "    # fitting method   = leastsq\n",
      "    # function evals   = 17\n",
      "    # data points      = 332\n",
      "    # variables        = 3\n",
      "    chi-square         = 3961.29359\n",
      "    reduced chi-square = 12.0404060\n",
      "    Akaike info crit   = 829.091394\n",
      "    Bayesian info crit = 840.506799\n",
      "##  Warning: uncertainties could not be estimated:\n",
      "[[Variables]]\n",
      "    log_eta_inf:  8.18203542 (init = 1)\n",
      "    m:           -27466.7633 (init = 60)\n",
      "    Tg:           87345.9738 (init = 1000)\n"
     ]
    }
   ],
   "source": [
    "resultado_fit7 = modelo_F4.fit(y_log, params7, T=x)\n",
    "print(resultado_fit7.fit_report())"
   ]
  },
  {
   "cell_type": "code",
   "execution_count": 38,
   "id": "65fab114-1891-4fe1-b6a6-5c6f743e051d",
   "metadata": {},
   "outputs": [
    {
     "name": "stdout",
     "output_type": "stream",
     "text": [
      "[[Model]]\n",
      "    Model(CLU)\n",
      "[[Fit Statistics]]\n",
      "    # fitting method   = leastsq\n",
      "    # function evals   = 13\n",
      "    # data points      = 332\n",
      "    # variables        = 3\n",
      "    chi-square         = 26.6518337\n",
      "    reduced chi-square = 0.08100861\n",
      "    Akaike info crit   = -831.395968\n",
      "    Bayesian info crit = -819.980563\n",
      "[[Variables]]\n",
      "    log_eta_inf: -5.17892953 +/- 0.08889807 (1.72%) (init = -4)\n",
      "    m:            63.2463772 +/- 0.68077583 (1.08%) (init = 60)\n",
      "    Tg:           995.284288 +/- 0.50224708 (0.05%) (init = 1000)\n",
      "[[Correlations]] (unreported correlations are < 0.100)\n",
      "    C(m, Tg)           = 0.704\n",
      "    C(log_eta_inf, m)  = 0.579\n",
      "    C(log_eta_inf, Tg) = 0.299\n"
     ]
    }
   ],
   "source": [
    "resultado_fit8 = modelo_CLU.fit(y_log, params8, T=x)\n",
    "print(resultado_fit8.fit_report())"
   ]
  },
  {
   "cell_type": "markdown",
   "id": "9627d791-f627-49c3-86c6-cde04448c948",
   "metadata": {},
   "source": [
    "# ERRO AQUI NO MODELO BS"
   ]
  },
  {
   "cell_type": "code",
   "execution_count": 39,
   "id": "ad18143e-938c-4cd4-88cf-b0cdc3f400ea",
   "metadata": {
    "tags": []
   },
   "outputs": [
    {
     "ename": "ValueError",
     "evalue": "The model function generated NaN values and the fit aborted! Please check your model function and/or set boundaries on parameters where applicable. In cases like this, using \"nan_policy='omit'\" will probably not work.",
     "output_type": "error",
     "traceback": [
      "\u001b[1;31m---------------------------------------------------------------------------\u001b[0m",
      "\u001b[1;31mValueError\u001b[0m                                Traceback (most recent call last)",
      "Cell \u001b[1;32mIn [39], line 1\u001b[0m\n\u001b[1;32m----> 1\u001b[0m resultado_fit9 \u001b[38;5;241m=\u001b[39m \u001b[43mmodelo_BS\u001b[49m\u001b[38;5;241;43m.\u001b[39;49m\u001b[43mfit\u001b[49m\u001b[43m(\u001b[49m\u001b[43my_log\u001b[49m\u001b[43m,\u001b[49m\u001b[43m \u001b[49m\u001b[43mparams9\u001b[49m\u001b[43m,\u001b[49m\u001b[43m \u001b[49m\u001b[43mT\u001b[49m\u001b[38;5;241;43m=\u001b[39;49m\u001b[43mx\u001b[49m\u001b[43m)\u001b[49m\n\u001b[0;32m      2\u001b[0m \u001b[38;5;28mprint\u001b[39m(resultado_fit9\u001b[38;5;241m.\u001b[39mfit_report())\n",
      "File \u001b[1;32mc:\\venv\\ilumpy\\lib\\site-packages\\lmfit\\model.py:1050\u001b[0m, in \u001b[0;36mModel.fit\u001b[1;34m(self, data, params, weights, method, iter_cb, scale_covar, verbose, fit_kws, nan_policy, calc_covar, max_nfev, **kwargs)\u001b[0m\n\u001b[0;32m   1044\u001b[0m     fit_kws \u001b[38;5;241m=\u001b[39m {}\n\u001b[0;32m   1046\u001b[0m output \u001b[38;5;241m=\u001b[39m ModelResult(\u001b[38;5;28mself\u001b[39m, params, method\u001b[38;5;241m=\u001b[39mmethod, iter_cb\u001b[38;5;241m=\u001b[39miter_cb,\n\u001b[0;32m   1047\u001b[0m                      scale_covar\u001b[38;5;241m=\u001b[39mscale_covar, fcn_kws\u001b[38;5;241m=\u001b[39mkwargs,\n\u001b[0;32m   1048\u001b[0m                      nan_policy\u001b[38;5;241m=\u001b[39m\u001b[38;5;28mself\u001b[39m\u001b[38;5;241m.\u001b[39mnan_policy, calc_covar\u001b[38;5;241m=\u001b[39mcalc_covar,\n\u001b[0;32m   1049\u001b[0m                      max_nfev\u001b[38;5;241m=\u001b[39mmax_nfev, \u001b[38;5;241m*\u001b[39m\u001b[38;5;241m*\u001b[39mfit_kws)\n\u001b[1;32m-> 1050\u001b[0m \u001b[43moutput\u001b[49m\u001b[38;5;241;43m.\u001b[39;49m\u001b[43mfit\u001b[49m\u001b[43m(\u001b[49m\u001b[43mdata\u001b[49m\u001b[38;5;241;43m=\u001b[39;49m\u001b[43mdata\u001b[49m\u001b[43m,\u001b[49m\u001b[43m \u001b[49m\u001b[43mweights\u001b[49m\u001b[38;5;241;43m=\u001b[39;49m\u001b[43mweights\u001b[49m\u001b[43m)\u001b[49m\n\u001b[0;32m   1051\u001b[0m output\u001b[38;5;241m.\u001b[39mcomponents \u001b[38;5;241m=\u001b[39m \u001b[38;5;28mself\u001b[39m\u001b[38;5;241m.\u001b[39mcomponents\n\u001b[0;32m   1052\u001b[0m \u001b[38;5;28;01mreturn\u001b[39;00m output\n",
      "File \u001b[1;32mc:\\venv\\ilumpy\\lib\\site-packages\\lmfit\\model.py:1405\u001b[0m, in \u001b[0;36mModelResult.fit\u001b[1;34m(self, data, params, weights, method, nan_policy, **kwargs)\u001b[0m\n\u001b[0;32m   1403\u001b[0m \u001b[38;5;28mself\u001b[39m\u001b[38;5;241m.\u001b[39muserkws\u001b[38;5;241m.\u001b[39mupdate(kwargs)\n\u001b[0;32m   1404\u001b[0m \u001b[38;5;28mself\u001b[39m\u001b[38;5;241m.\u001b[39minit_fit \u001b[38;5;241m=\u001b[39m \u001b[38;5;28mself\u001b[39m\u001b[38;5;241m.\u001b[39mmodel\u001b[38;5;241m.\u001b[39meval(params\u001b[38;5;241m=\u001b[39m\u001b[38;5;28mself\u001b[39m\u001b[38;5;241m.\u001b[39mparams, \u001b[38;5;241m*\u001b[39m\u001b[38;5;241m*\u001b[39m\u001b[38;5;28mself\u001b[39m\u001b[38;5;241m.\u001b[39muserkws)\n\u001b[1;32m-> 1405\u001b[0m _ret \u001b[38;5;241m=\u001b[39m \u001b[38;5;28;43mself\u001b[39;49m\u001b[38;5;241;43m.\u001b[39;49m\u001b[43mminimize\u001b[49m\u001b[43m(\u001b[49m\u001b[43mmethod\u001b[49m\u001b[38;5;241;43m=\u001b[39;49m\u001b[38;5;28;43mself\u001b[39;49m\u001b[38;5;241;43m.\u001b[39;49m\u001b[43mmethod\u001b[49m\u001b[43m)\u001b[49m\n\u001b[0;32m   1407\u001b[0m \u001b[38;5;28;01mfor\u001b[39;00m attr \u001b[38;5;129;01min\u001b[39;00m \u001b[38;5;28mdir\u001b[39m(_ret):\n\u001b[0;32m   1408\u001b[0m     \u001b[38;5;28;01mif\u001b[39;00m \u001b[38;5;129;01mnot\u001b[39;00m attr\u001b[38;5;241m.\u001b[39mstartswith(\u001b[38;5;124m'\u001b[39m\u001b[38;5;124m_\u001b[39m\u001b[38;5;124m'\u001b[39m):\n",
      "File \u001b[1;32mc:\\venv\\ilumpy\\lib\\site-packages\\lmfit\\minimizer.py:2352\u001b[0m, in \u001b[0;36mMinimizer.minimize\u001b[1;34m(self, method, params, **kws)\u001b[0m\n\u001b[0;32m   2349\u001b[0m         \u001b[38;5;28;01mif\u001b[39;00m (key\u001b[38;5;241m.\u001b[39mlower()\u001b[38;5;241m.\u001b[39mstartswith(user_method) \u001b[38;5;129;01mor\u001b[39;00m\n\u001b[0;32m   2350\u001b[0m                 val\u001b[38;5;241m.\u001b[39mlower()\u001b[38;5;241m.\u001b[39mstartswith(user_method)):\n\u001b[0;32m   2351\u001b[0m             kwargs[\u001b[38;5;124m'\u001b[39m\u001b[38;5;124mmethod\u001b[39m\u001b[38;5;124m'\u001b[39m] \u001b[38;5;241m=\u001b[39m val\n\u001b[1;32m-> 2352\u001b[0m \u001b[38;5;28;01mreturn\u001b[39;00m function(\u001b[38;5;241m*\u001b[39m\u001b[38;5;241m*\u001b[39mkwargs)\n",
      "File \u001b[1;32mc:\\venv\\ilumpy\\lib\\site-packages\\lmfit\\minimizer.py:1689\u001b[0m, in \u001b[0;36mMinimizer.leastsq\u001b[1;34m(self, params, max_nfev, **kws)\u001b[0m\n\u001b[0;32m   1687\u001b[0m result\u001b[38;5;241m.\u001b[39mcall_kws \u001b[38;5;241m=\u001b[39m lskws\n\u001b[0;32m   1688\u001b[0m \u001b[38;5;28;01mtry\u001b[39;00m:\n\u001b[1;32m-> 1689\u001b[0m     lsout \u001b[38;5;241m=\u001b[39m scipy_leastsq(\u001b[38;5;28mself\u001b[39m\u001b[38;5;241m.\u001b[39m__residual, variables, \u001b[38;5;241m*\u001b[39m\u001b[38;5;241m*\u001b[39mlskws)\n\u001b[0;32m   1690\u001b[0m \u001b[38;5;28;01mexcept\u001b[39;00m AbortFitException:\n\u001b[0;32m   1691\u001b[0m     \u001b[38;5;28;01mpass\u001b[39;00m\n",
      "File \u001b[1;32mc:\\venv\\ilumpy\\lib\\site-packages\\scipy\\optimize\\_minpack_py.py:423\u001b[0m, in \u001b[0;36mleastsq\u001b[1;34m(func, x0, args, Dfun, full_output, col_deriv, ftol, xtol, gtol, maxfev, epsfcn, factor, diag)\u001b[0m\n\u001b[0;32m    421\u001b[0m     \u001b[38;5;28;01mif\u001b[39;00m maxfev \u001b[38;5;241m==\u001b[39m \u001b[38;5;241m0\u001b[39m:\n\u001b[0;32m    422\u001b[0m         maxfev \u001b[38;5;241m=\u001b[39m \u001b[38;5;241m200\u001b[39m\u001b[38;5;241m*\u001b[39m(n \u001b[38;5;241m+\u001b[39m \u001b[38;5;241m1\u001b[39m)\n\u001b[1;32m--> 423\u001b[0m     retval \u001b[38;5;241m=\u001b[39m \u001b[43m_minpack\u001b[49m\u001b[38;5;241;43m.\u001b[39;49m\u001b[43m_lmdif\u001b[49m\u001b[43m(\u001b[49m\u001b[43mfunc\u001b[49m\u001b[43m,\u001b[49m\u001b[43m \u001b[49m\u001b[43mx0\u001b[49m\u001b[43m,\u001b[49m\u001b[43m \u001b[49m\u001b[43margs\u001b[49m\u001b[43m,\u001b[49m\u001b[43m \u001b[49m\u001b[43mfull_output\u001b[49m\u001b[43m,\u001b[49m\u001b[43m \u001b[49m\u001b[43mftol\u001b[49m\u001b[43m,\u001b[49m\u001b[43m \u001b[49m\u001b[43mxtol\u001b[49m\u001b[43m,\u001b[49m\n\u001b[0;32m    424\u001b[0m \u001b[43m                             \u001b[49m\u001b[43mgtol\u001b[49m\u001b[43m,\u001b[49m\u001b[43m \u001b[49m\u001b[43mmaxfev\u001b[49m\u001b[43m,\u001b[49m\u001b[43m \u001b[49m\u001b[43mepsfcn\u001b[49m\u001b[43m,\u001b[49m\u001b[43m \u001b[49m\u001b[43mfactor\u001b[49m\u001b[43m,\u001b[49m\u001b[43m \u001b[49m\u001b[43mdiag\u001b[49m\u001b[43m)\u001b[49m\n\u001b[0;32m    425\u001b[0m \u001b[38;5;28;01melse\u001b[39;00m:\n\u001b[0;32m    426\u001b[0m     \u001b[38;5;28;01mif\u001b[39;00m col_deriv:\n",
      "File \u001b[1;32mc:\\venv\\ilumpy\\lib\\site-packages\\lmfit\\minimizer.py:587\u001b[0m, in \u001b[0;36mMinimizer.__residual\u001b[1;34m(self, fvars, apply_bounds_transformation)\u001b[0m\n\u001b[0;32m    584\u001b[0m     \u001b[38;5;28mself\u001b[39m\u001b[38;5;241m.\u001b[39mresult\u001b[38;5;241m.\u001b[39msuccess \u001b[38;5;241m=\u001b[39m \u001b[38;5;28;01mFalse\u001b[39;00m\n\u001b[0;32m    585\u001b[0m     \u001b[38;5;28;01mraise\u001b[39;00m AbortFitException(\u001b[38;5;124mf\u001b[39m\u001b[38;5;124m\"\u001b[39m\u001b[38;5;124mfit aborted: too many function evaluations \u001b[39m\u001b[38;5;132;01m{\u001b[39;00m\u001b[38;5;28mself\u001b[39m\u001b[38;5;241m.\u001b[39mmax_nfev\u001b[38;5;132;01m}\u001b[39;00m\u001b[38;5;124m\"\u001b[39m)\n\u001b[1;32m--> 587\u001b[0m out \u001b[38;5;241m=\u001b[39m \u001b[38;5;28mself\u001b[39m\u001b[38;5;241m.\u001b[39muserfcn(params, \u001b[38;5;241m*\u001b[39m\u001b[38;5;28mself\u001b[39m\u001b[38;5;241m.\u001b[39muserargs, \u001b[38;5;241m*\u001b[39m\u001b[38;5;241m*\u001b[39m\u001b[38;5;28mself\u001b[39m\u001b[38;5;241m.\u001b[39muserkws)\n\u001b[0;32m    589\u001b[0m \u001b[38;5;28;01mif\u001b[39;00m callable(\u001b[38;5;28mself\u001b[39m\u001b[38;5;241m.\u001b[39miter_cb):\n\u001b[0;32m    590\u001b[0m     abort \u001b[38;5;241m=\u001b[39m \u001b[38;5;28mself\u001b[39m\u001b[38;5;241m.\u001b[39miter_cb(params, \u001b[38;5;28mself\u001b[39m\u001b[38;5;241m.\u001b[39mresult\u001b[38;5;241m.\u001b[39mnfev, out,\n\u001b[0;32m    591\u001b[0m                          \u001b[38;5;241m*\u001b[39m\u001b[38;5;28mself\u001b[39m\u001b[38;5;241m.\u001b[39muserargs, \u001b[38;5;241m*\u001b[39m\u001b[38;5;241m*\u001b[39m\u001b[38;5;28mself\u001b[39m\u001b[38;5;241m.\u001b[39muserkws)\n",
      "File \u001b[1;32mc:\\venv\\ilumpy\\lib\\site-packages\\lmfit\\model.py:770\u001b[0m, in \u001b[0;36mModel._residual\u001b[1;34m(self, params, data, weights, **kwargs)\u001b[0m\n\u001b[0;32m    765\u001b[0m \u001b[38;5;28;01mif\u001b[39;00m \u001b[38;5;28mself\u001b[39m\u001b[38;5;241m.\u001b[39mnan_policy \u001b[38;5;241m==\u001b[39m \u001b[38;5;124m'\u001b[39m\u001b[38;5;124mraise\u001b[39m\u001b[38;5;124m'\u001b[39m \u001b[38;5;129;01mand\u001b[39;00m \u001b[38;5;129;01mnot\u001b[39;00m np\u001b[38;5;241m.\u001b[39mall(np\u001b[38;5;241m.\u001b[39misfinite(model)):\n\u001b[0;32m    766\u001b[0m     msg \u001b[38;5;241m=\u001b[39m (\u001b[38;5;124m'\u001b[39m\u001b[38;5;124mThe model function generated NaN values and the fit \u001b[39m\u001b[38;5;124m'\u001b[39m\n\u001b[0;32m    767\u001b[0m            \u001b[38;5;124m'\u001b[39m\u001b[38;5;124maborted! Please check your model function and/or set \u001b[39m\u001b[38;5;124m'\u001b[39m\n\u001b[0;32m    768\u001b[0m            \u001b[38;5;124m'\u001b[39m\u001b[38;5;124mboundaries on parameters where applicable. In cases like \u001b[39m\u001b[38;5;124m'\u001b[39m\n\u001b[0;32m    769\u001b[0m            \u001b[38;5;124m'\u001b[39m\u001b[38;5;124mthis, using \u001b[39m\u001b[38;5;124m\"\u001b[39m\u001b[38;5;124mnan_policy=\u001b[39m\u001b[38;5;130;01m\\'\u001b[39;00m\u001b[38;5;124momit\u001b[39m\u001b[38;5;130;01m\\'\u001b[39;00m\u001b[38;5;124m\"\u001b[39m\u001b[38;5;124m will probably not work.\u001b[39m\u001b[38;5;124m'\u001b[39m)\n\u001b[1;32m--> 770\u001b[0m     \u001b[38;5;28;01mraise\u001b[39;00m \u001b[38;5;167;01mValueError\u001b[39;00m(msg)\n\u001b[0;32m    772\u001b[0m diff \u001b[38;5;241m=\u001b[39m model \u001b[38;5;241m-\u001b[39m data\n\u001b[0;32m    774\u001b[0m \u001b[38;5;28;01mif\u001b[39;00m diff\u001b[38;5;241m.\u001b[39mdtype \u001b[38;5;241m==\u001b[39m \u001b[38;5;28mcomplex\u001b[39m:\n\u001b[0;32m    775\u001b[0m     \u001b[38;5;66;03m# data/model are complex\u001b[39;00m\n",
      "\u001b[1;31mValueError\u001b[0m: The model function generated NaN values and the fit aborted! Please check your model function and/or set boundaries on parameters where applicable. In cases like this, using \"nan_policy='omit'\" will probably not work."
     ]
    }
   ],
   "source": [
    "resultado_fit9 = modelo_BS.fit(y_log, params9, T=x)\n",
    "print(resultado_fit9.fit_report())"
   ]
  },
  {
   "cell_type": "code",
   "execution_count": 40,
   "id": "2470523a-93c6-47bb-861f-8c3075251aa8",
   "metadata": {},
   "outputs": [
    {
     "name": "stdout",
     "output_type": "stream",
     "text": [
      "[[Model]]\n",
      "    Model(Bassler)\n",
      "[[Fit Statistics]]\n",
      "    # fitting method   = leastsq\n",
      "    # function evals   = 24\n",
      "    # data points      = 332\n",
      "    # variables        = 3\n",
      "    chi-square         = 166.335327\n",
      "    reduced chi-square = 0.50557850\n",
      "    Akaike info crit   = -223.454887\n",
      "    Bayesian info crit = -212.039482\n",
      "##  Warning: uncertainties could not be estimated:\n",
      "    m:            at initial value\n",
      "[[Variables]]\n",
      "    log_eta_inf: -5.02509286 (init = -4)\n",
      "    m:            60.0000000 (init = 60)\n",
      "    Tg:           964.762351 (init = 500)\n"
     ]
    }
   ],
   "source": [
    "resultado_fit10 = modelo_Bassler.fit(y_log, params10, T=x)\n",
    "print(resultado_fit10.fit_report())"
   ]
  },
  {
   "cell_type": "code",
   "execution_count": 41,
   "id": "c077b7db-827a-47a9-8824-eeed11a8fba9",
   "metadata": {},
   "outputs": [
    {
     "name": "stdout",
     "output_type": "stream",
     "text": [
      "[[Model]]\n",
      "    Model(Demetriou_et_al)\n",
      "[[Fit Statistics]]\n",
      "    # fitting method   = leastsq\n",
      "    # function evals   = 43\n",
      "    # data points      = 332\n",
      "    # variables        = 3\n",
      "    chi-square         = 15.3858302\n",
      "    reduced chi-square = 0.04676544\n",
      "    Akaike info crit   = -1013.80042\n",
      "    Bayesian info crit = -1002.38501\n",
      "[[Variables]]\n",
      "    log_eta_inf: -0.38917565 +/- 0.03992599 (10.26%) (init = -4)\n",
      "    m:            58.3215893 +/- 0.47026278 (0.81%) (init = 60)\n",
      "    Tg:           995.647941 +/- 0.42509923 (0.04%) (init = 500)\n",
      "[[Correlations]] (unreported correlations are < 0.100)\n",
      "    C(m, Tg)           = 0.783\n",
      "    C(log_eta_inf, m)  = 0.306\n",
      "    C(log_eta_inf, Tg) = 0.177\n"
     ]
    }
   ],
   "source": [
    "resultado_fit11 = modelo_Demetriou.fit(y_log, params11, T=x)\n",
    "print(resultado_fit11.fit_report())"
   ]
  },
  {
   "cell_type": "markdown",
   "id": "db6c8ac5-e30c-486a-a0f5-0c4c565c2157",
   "metadata": {},
   "source": [
    "### Plot dos resultados:"
   ]
  },
  {
   "cell_type": "markdown",
   "id": "f61b7d9c-4498-4af2-a31b-a28d780e2e72",
   "metadata": {},
   "source": [
    "Aqui plotamos todos os resultados obtidos com os diferentes modelos, com respectivos palpite inicial e melhor ajuste encontrado. Também plotamos "
   ]
  },
  {
   "cell_type": "code",
   "execution_count": null,
   "id": "ba413397-8152-455a-9df1-ad2687a42ba1",
   "metadata": {
    "jupyter": {
     "source_hidden": true
    },
    "tags": []
   },
   "outputs": [],
   "source": [
    "plt.plot(x, y_log, '.')\n",
    "plt.plot(x, resultado_fit.init_fit, '--', label='Palpite inicial - VFT')\n",
    "plt.plot(x, resultado_fit.best_fit, '-', label='Melhor ajuste encontrado - VFT')\n",
    "plt.plot(x, resultado_fit2.init_fit, '--', label = 'Palpite inicial - AM')\n",
    "plt.plot(x, resultado_fit2.best_fit, '-', label = 'Melhor ajuste encontrado - AM')\n",
    "plt.plot(x, resultado_fit3.init_fit, '--', label= 'Palpite inicial - MYEGA')\n",
    "plt.plot(x, resultado_fit3.best_fit, '-', label= 'Melhor ajuste encontrado - MYEGA')\n",
    "plt.plot(x, resultado_fit4.init_fit, '--', label= 'Palpite inicial - CW')\n",
    "plt.plot(x, resultado_fit4.best_fit, '-', label= 'Melhor ajuste encontrado - CW')\n",
    "plt.legend()\n",
    "plt.show()"
   ]
  },
  {
   "cell_type": "code",
   "execution_count": null,
   "id": "26d829eb-98b2-4c7f-ad28-6e53c2a6aff3",
   "metadata": {
    "jupyter": {
     "source_hidden": true
    },
    "tags": []
   },
   "outputs": [],
   "source": [
    "plt.plot(x, y_log, '.')\n",
    "plt.plot(x, resultado_fit.init_fit, '--', label='Palpite inicial - VFT')\n",
    "plt.plot(x, resultado_fit.best_fit, '-', label='Melhor ajuste encontrado - VFT')\n",
    "plt.title(\"Modelo VFT\")\n",
    "plt.xlabel('Temperatura [K]')\n",
    "plt.ylabel('Logaritmo da viscosidade')\n",
    "plt.legend()\n",
    "plt.show()"
   ]
  },
  {
   "cell_type": "markdown",
   "id": "aaf33fa1-49af-4842-9e2a-568e1e051553",
   "metadata": {
    "tags": []
   },
   "source": [
    "Plotamos também gráficos contendo o ajuste e os resíduos de cada modelo. Com isso, pudemos avaliar a performance de cada modelo, comparando apenas a distância dos pontos à curva independente de sua forma."
   ]
  },
  {
   "cell_type": "code",
   "execution_count": null,
   "id": "ea696e52-02a8-4c80-9c31-e8f5395ff55a",
   "metadata": {
    "tags": []
   },
   "outputs": [],
   "source": [
    "resultado_fit.plot(numpoints = 400)\n",
    "plt.show()"
   ]
  },
  {
   "cell_type": "code",
   "execution_count": null,
   "id": "3b0199f6-d150-4ab1-a44a-12def5b24dc8",
   "metadata": {
    "jupyter": {
     "source_hidden": true
    },
    "tags": []
   },
   "outputs": [],
   "source": [
    "plt.plot(x, y_log, '.')\n",
    "plt.plot(x, resultado_fit2.init_fit, '--', label = 'Palpite inicial - AM')\n",
    "plt.plot(x, resultado_fit2.best_fit, '-', label = 'Melhor ajuste encontrado - AM')\n",
    "plt.title(\"Modelo AM\")\n",
    "plt.xlabel('Temperatura [K]')\n",
    "plt.ylabel('Logaritmo da viscosidade')\n",
    "plt.legend()\n",
    "plt.show()"
   ]
  },
  {
   "cell_type": "code",
   "execution_count": null,
   "id": "454d1d9d-5b08-4e8c-8c12-bf1e411797d3",
   "metadata": {
    "jupyter": {
     "source_hidden": true
    },
    "tags": []
   },
   "outputs": [],
   "source": [
    "resultado_fit2.plot(numpoints = 400)\n",
    "plt.show()"
   ]
  },
  {
   "cell_type": "code",
   "execution_count": null,
   "id": "fed56247-ba98-4c24-aa7b-b5d8dadce648",
   "metadata": {
    "jupyter": {
     "source_hidden": true
    },
    "tags": []
   },
   "outputs": [],
   "source": [
    "plt.plot(x, y_log, '.')\n",
    "plt.plot(x, resultado_fit3.init_fit, '--', label = 'Palpite inicial - MYEGA')\n",
    "plt.plot(x, resultado_fit3.best_fit, '-', label = 'Melhor ajuste encontrado - MYEGA')\n",
    "plt.title(\"Modelo MYEGA\")\n",
    "plt.xlabel('Temperatura [K]')\n",
    "plt.ylabel('Logaritmo da viscosidade')\n",
    "plt.legend()\n",
    "plt.show()"
   ]
  },
  {
   "cell_type": "code",
   "execution_count": null,
   "id": "331de10e-14b5-4dab-960a-92a606492c87",
   "metadata": {
    "jupyter": {
     "source_hidden": true
    },
    "tags": []
   },
   "outputs": [],
   "source": [
    "resultado_fit3.plot(numpoints = 400)\n",
    "plt.show()"
   ]
  },
  {
   "cell_type": "code",
   "execution_count": null,
   "id": "23a223f0-d376-4ee0-bf35-644a6b1990d1",
   "metadata": {
    "jupyter": {
     "source_hidden": true
    },
    "tags": []
   },
   "outputs": [],
   "source": [
    "plt.plot(x, y_log, '.')\n",
    "plt.plot(x, resultado_fit4.init_fit, '--', label = 'Palpite inicial - CW')\n",
    "plt.plot(x, resultado_fit4.best_fit, '-', label = 'Melhor ajuste encontrado - CW')\n",
    "plt.title(\"Modelo CW\")\n",
    "plt.xlabel('Temperatura [K]')\n",
    "plt.ylabel('Logaritmo da viscosidade')\n",
    "plt.legend()\n",
    "plt.show()"
   ]
  },
  {
   "cell_type": "code",
   "execution_count": null,
   "id": "065a71d0-fd24-431a-bef6-627df008c142",
   "metadata": {
    "jupyter": {
     "source_hidden": true
    },
    "tags": []
   },
   "outputs": [],
   "source": [
    "resultado_fit4.plot(numpoints = 400)\n",
    "plt.show()"
   ]
  },
  {
   "cell_type": "code",
   "execution_count": null,
   "id": "00009950-e976-4925-9739-77beb47f4e1c",
   "metadata": {
    "jupyter": {
     "source_hidden": true
    },
    "tags": []
   },
   "outputs": [],
   "source": [
    "plt.plot(x, y_log, '.')\n",
    "plt.plot(x, resultado_fit5.init_fit, '--', label = 'Palpite inicial - F2')\n",
    "plt.plot(x, resultado_fit5.best_fit, '-', label = 'Melhor ajuste encontrado - F2')\n",
    "plt.title(\"Modelo F2\")\n",
    "plt.xlabel('Temperatura [K]')\n",
    "plt.ylabel('Logaritmo da viscosidade')\n",
    "plt.legend()\n",
    "plt.show()"
   ]
  },
  {
   "cell_type": "code",
   "execution_count": null,
   "id": "f0399f21-bf63-410a-8506-78df70bb2567",
   "metadata": {
    "jupyter": {
     "source_hidden": true
    },
    "tags": []
   },
   "outputs": [],
   "source": [
    "resultado_fit5.plot(numpoints = 400)\n",
    "plt.show()"
   ]
  },
  {
   "cell_type": "code",
   "execution_count": null,
   "id": "4fdf0360-4a41-4eff-95d1-a3053e010f0d",
   "metadata": {
    "jupyter": {
     "source_hidden": true
    },
    "tags": []
   },
   "outputs": [],
   "source": [
    "plt.plot(x, y_log, '.')\n",
    "plt.plot(x, resultado_fit6.init_fit, '--', label = 'Palpite inicial - F3')\n",
    "plt.plot(x, resultado_fit6.best_fit, '-', label = 'Melhor ajuste encontrado - F3')\n",
    "plt.title(\"Modelo F3\")\n",
    "plt.xlabel('Temperatura [K]')\n",
    "plt.ylabel('Logaritmo da viscosidade')\n",
    "plt.legend()\n",
    "plt.show()"
   ]
  },
  {
   "cell_type": "code",
   "execution_count": null,
   "id": "bc8ce78c-efe7-4512-a362-a5a14779ab84",
   "metadata": {
    "jupyter": {
     "source_hidden": true
    },
    "tags": []
   },
   "outputs": [],
   "source": [
    "resultado_fit6.plot(numpoints = 400)\n",
    "plt.show()"
   ]
  },
  {
   "cell_type": "code",
   "execution_count": null,
   "id": "8b15d07e-4d33-4120-93c2-d790c038a89e",
   "metadata": {
    "jupyter": {
     "source_hidden": true
    },
    "tags": []
   },
   "outputs": [],
   "source": [
    "plt.plot(x, y_log, '.')\n",
    "plt.plot(x, resultado_fit7.init_fit, '--', label = 'Palpite inicial - F4')\n",
    "plt.plot(x, resultado_fit7.best_fit, '-', label = 'Melhor ajuste encontrado - F4')\n",
    "plt.title(\"Modelo F4\")\n",
    "plt.xlabel('Temperatura [K]')\n",
    "plt.ylabel('Logaritmo da viscosidade')\n",
    "plt.legend()\n",
    "plt.show()"
   ]
  },
  {
   "cell_type": "code",
   "execution_count": null,
   "id": "fa1850af-222b-4bfc-9924-2b086546110c",
   "metadata": {
    "jupyter": {
     "source_hidden": true
    },
    "tags": []
   },
   "outputs": [],
   "source": [
    "resultado_fit7.plot(numpoints = 400)\n",
    "plt.show()"
   ]
  },
  {
   "cell_type": "markdown",
   "id": "7492ae0f-917f-4ef8-bd09-c00dfc1915f5",
   "metadata": {},
   "source": [
    "### Repeated K-fold cross validation:"
   ]
  },
  {
   "cell_type": "markdown",
   "id": "4d11f2e3-caf8-46e5-a336-9ffccee5c5d2",
   "metadata": {},
   "source": [
    "Mudar fold e repetições. Palpite: 5 folds, 6 repetições. "
   ]
  },
  {
   "cell_type": "code",
   "execution_count": 42,
   "id": "c7f2f187-4cc9-42a0-93fc-93975f40c359",
   "metadata": {},
   "outputs": [],
   "source": [
    "from sklearn.model_selection import RepeatedKFold\n",
    "from sklearn.model_selection import cross_val_score\n",
    "from sklearn.metrics import mean_squared_error\n",
    "from scipy import stats"
   ]
  },
  {
   "cell_type": "code",
   "execution_count": 43,
   "id": "d8e73ddf-afd3-4268-8f93-9db617f4c351",
   "metadata": {},
   "outputs": [],
   "source": [
    "rkf = RepeatedKFold(n_splits=5, n_repeats=6, random_state=2652124)"
   ]
  },
  {
   "cell_type": "code",
   "execution_count": 58,
   "id": "e0d150ef-3cba-4279-b415-2145366efd1e",
   "metadata": {},
   "outputs": [],
   "source": [
    "medias = []\n",
    "scores = []\n",
    "num_modelos = 6\n",
    "modelos = {modelo_VFT : params,\n",
    "           modelo_AM : params2,\n",
    "           modelo_MYEGA : params3,\n",
    "           modelo_CW: params4,\n",
    "          }\n"
   ]
  },
  {
   "cell_type": "code",
   "execution_count": 59,
   "id": "f492e30a-47d3-4e1a-96ff-371b06834c4c",
   "metadata": {},
   "outputs": [],
   "source": [
    "for modelo, parametros in modelos.items():\n",
    "\n",
    "    for i, (train_index, test_index) in enumerate(rkf.split(x)):\n",
    "        \n",
    "        x_treino = x[train_index]\n",
    "        y_treino = y_log[train_index]\n",
    "        y_teste = y_log[test_index]\n",
    "        x_teste = x[test_index]\n",
    "\n",
    "        Resultado = modelo.fit(y_treino, parametros, T = x_treino)\n",
    "\n",
    "        y_verdadeiro = y_log[test_index]\n",
    "        y_previsao = Resultado.eval(T = x_teste)\n",
    "        RMSE = mean_squared_error(y_verdadeiro, y_previsao, squared = False)\n",
    "        scores.append(RMSE)\n",
    "        media_modelo = np.mean(scores)    \n",
    "\n",
    "    medias.append(media_modelo)"
   ]
  },
  {
   "cell_type": "code",
   "execution_count": 47,
   "id": "32429d4b-8443-4cb1-aebf-d5a67d3cfa34",
   "metadata": {},
   "outputs": [],
   "source": [
    "score1, score2, score3, score4, score5, score6 = np.array_split(scores, num_modelos)"
   ]
  },
  {
   "cell_type": "code",
   "execution_count": 48,
   "id": "28b97b0c-bc65-4cb8-98bf-afdb0a8acdf0",
   "metadata": {},
   "outputs": [
    {
     "data": {
      "text/plain": [
       "30"
      ]
     },
     "execution_count": 48,
     "metadata": {},
     "output_type": "execute_result"
    }
   ],
   "source": [
    "len(score1)"
   ]
  },
  {
   "cell_type": "code",
   "execution_count": 49,
   "id": "7855eeb5-be60-48c5-ba8a-71e0fac61749",
   "metadata": {},
   "outputs": [
    {
     "data": {
      "text/plain": [
       "ShapiroResult(statistic=0.9840080738067627, pvalue=0.9191204905509949)"
      ]
     },
     "execution_count": 49,
     "metadata": {},
     "output_type": "execute_result"
    }
   ],
   "source": [
    "stats.shapiro(score1)"
   ]
  },
  {
   "cell_type": "code",
   "execution_count": 50,
   "id": "83845990-5509-4edb-afcf-f63b8e100879",
   "metadata": {},
   "outputs": [
    {
     "data": {
      "text/plain": [
       "ShapiroResult(statistic=0.9767858386039734, pvalue=0.7351920008659363)"
      ]
     },
     "execution_count": 50,
     "metadata": {},
     "output_type": "execute_result"
    }
   ],
   "source": [
    "stats.shapiro(score2)"
   ]
  },
  {
   "cell_type": "code",
   "execution_count": 51,
   "id": "388e2aa8-9596-473c-afdc-97e47ba0bd19",
   "metadata": {},
   "outputs": [
    {
     "data": {
      "text/plain": [
       "ShapiroResult(statistic=0.9840512871742249, pvalue=0.9199566841125488)"
      ]
     },
     "execution_count": 51,
     "metadata": {},
     "output_type": "execute_result"
    }
   ],
   "source": [
    "stats.shapiro(score3)"
   ]
  },
  {
   "cell_type": "code",
   "execution_count": 52,
   "id": "1c873348-8884-4587-9ed7-82b87168a5de",
   "metadata": {},
   "outputs": [
    {
     "data": {
      "text/plain": [
       "ShapiroResult(statistic=0.9767866134643555, pvalue=0.7352134585380554)"
      ]
     },
     "execution_count": 52,
     "metadata": {},
     "output_type": "execute_result"
    }
   ],
   "source": [
    "stats.shapiro(score4)"
   ]
  },
  {
   "cell_type": "code",
   "execution_count": 53,
   "id": "fec53aaa-fa1c-4ea6-b932-7e3c99ec5932",
   "metadata": {},
   "outputs": [
    {
     "data": {
      "text/plain": [
       "ShapiroResult(statistic=0.8842660188674927, pvalue=0.0035378639586269855)"
      ]
     },
     "execution_count": 53,
     "metadata": {},
     "output_type": "execute_result"
    }
   ],
   "source": [
    "stats.shapiro(score5)"
   ]
  },
  {
   "cell_type": "code",
   "execution_count": 54,
   "id": "2c59eda5-a257-4b43-8d92-d873f9df5eb3",
   "metadata": {},
   "outputs": [
    {
     "data": {
      "text/plain": [
       "ShapiroResult(statistic=0.9177742600440979, pvalue=0.02349112369120121)"
      ]
     },
     "execution_count": 54,
     "metadata": {},
     "output_type": "execute_result"
    }
   ],
   "source": [
    "stats.shapiro(score6)"
   ]
  },
  {
   "cell_type": "code",
   "execution_count": 57,
   "id": "641b2611-b0c2-4a30-b7d0-99e8cfc1e8b2",
   "metadata": {},
   "outputs": [
    {
     "data": {
      "text/plain": [
       "LeveneResult(statistic=4.485208764820556, pvalue=0.0007191040468378769)"
      ]
     },
     "execution_count": 57,
     "metadata": {},
     "output_type": "execute_result"
    }
   ],
   "source": [
    "stats.levene(score1, score2, score3, score4, score5, score6)"
   ]
  },
  {
   "cell_type": "code",
   "execution_count": null,
   "id": "0e15408c-9e0a-4b66-a085-fabb478f30d4",
   "metadata": {},
   "outputs": [],
   "source": [
    "score1"
   ]
  },
  {
   "cell_type": "code",
   "execution_count": null,
   "id": "f5476181-3f29-45a5-98d8-3f49a86debe7",
   "metadata": {},
   "outputs": [],
   "source": [
    "lista = [score1, score2, score3, score4, score5, score6, score7]"
   ]
  },
  {
   "cell_type": "code",
   "execution_count": null,
   "id": "7b09d9bc-56e7-4560-8de0-462fa927e7f4",
   "metadata": {},
   "outputs": [],
   "source": [
    "for i in lista:\n",
    "    print(len(i))"
   ]
  },
  {
   "cell_type": "code",
   "execution_count": null,
   "id": "91fb8fe5-a62f-47ec-a442-da895b9bdabc",
   "metadata": {},
   "outputs": [],
   "source": [
    "testes = {\n",
    "    'ANOVA' : stats.f_oneway(score1,score2,score3, score4, score5, score6, score7),\n",
    "    'Friedman' : stats.friedmanchisquare(score1, score2, score3, score4, score5, score6, score7)\n",
    "    }\n",
    "\n",
    "print('Significância 0.05')\n",
    "for teste, estatistica in testes.items():\n",
    "    pvalor = estatistica.pvalue\n",
    "    print(f'Para o teste {teste}, o P-valor foi: {pvalor}')"
   ]
  },
  {
   "cell_type": "code",
   "execution_count": null,
   "id": "479e4917-6a0a-4100-b283-b9c223ef0b8c",
   "metadata": {},
   "outputs": [],
   "source": [
    "tukey = stats.tukey_hsd(score1,score2,score3, score4, score5, score6, score7)"
   ]
  },
  {
   "cell_type": "code",
   "execution_count": null,
   "id": "038c38ff-6fdb-4138-bee7-b71918854956",
   "metadata": {},
   "outputs": [],
   "source": [
    "print(tukey)"
   ]
  },
  {
   "cell_type": "code",
   "execution_count": null,
   "id": "8ff2306f-1f92-4e2c-98c4-616e5a02973b",
   "metadata": {},
   "outputs": [],
   "source": [
    "resultado = tukey.pvalue"
   ]
  },
  {
   "cell_type": "code",
   "execution_count": null,
   "id": "421c1f1e-79c3-414d-ac40-5685f781a086",
   "metadata": {},
   "outputs": [],
   "source": [
    "resultado"
   ]
  },
  {
   "cell_type": "code",
   "execution_count": null,
   "id": "113f2e7b-327f-4166-94a5-251e932d7c8e",
   "metadata": {},
   "outputs": [],
   "source": [
    "plt.plot(x, y_log, '.')\n",
    "plt.plot(x, resultado_fit2.best_fit, '-', label = 'Melhor ajuste encontrado - AM')\n",
    "\n",
    "plt.plot(x, resultado_fit7.init_fit, '--', label= 'Palpite inicial - F4')\n",
    "plt.plot(x, resultado_fit7.best_fit, '-', label= 'Melhor ajuste encontrado - F4')\n",
    "plt.legend()\n",
    "plt.show()"
   ]
  },
  {
   "cell_type": "markdown",
   "id": "5ed0dc92-be40-41bb-abf2-e19ca92f2756",
   "metadata": {},
   "source": [
    "### Atual"
   ]
  },
  {
   "cell_type": "markdown",
   "id": "647b48f8-c687-428b-8b96-f2affd320606",
   "metadata": {},
   "source": [
    "## Referências:"
   ]
  },
  {
   "cell_type": "markdown",
   "id": "07cb14ef-8741-4297-977a-7cb7cf199904",
   "metadata": {},
   "source": [
    "__[1]__ Mauro, J. C., Yue, Y., Ellison, A. J., Gupta, P. K., & Allan, D. C. (2009). Viscosity of glass-forming liquids. Proceedings of the National Academy of Sciences, 106(49), 19780-19784."
   ]
  },
  {
   "cell_type": "markdown",
   "id": "e1410070-b08c-471e-a20d-e486df46b03d",
   "metadata": {},
   "source": [
    "__[2]__ Notebook de regressão não-linear. Daniel R. Cassar. Disponibilizado pelo orientador Daniel R. Cassar."
   ]
  },
  {
   "cell_type": "markdown",
   "id": "5b983f70-ac5d-49a5-9f46-d4ff434c5034",
   "metadata": {},
   "source": [
    "[3] https://www.statology.org/friedman-test-python/"
   ]
  },
  {
   "cell_type": "code",
   "execution_count": null,
   "id": "b6b4da0d-eb9f-42da-bfac-0eb55707d1ff",
   "metadata": {},
   "outputs": [],
   "source": []
  }
 ],
 "metadata": {
  "kernelspec": {
   "display_name": "ilumpy",
   "language": "python",
   "name": "ilumpy"
  },
  "language_info": {
   "codemirror_mode": {
    "name": "ipython",
    "version": 3
   },
   "file_extension": ".py",
   "mimetype": "text/x-python",
   "name": "python",
   "nbconvert_exporter": "python",
   "pygments_lexer": "ipython3",
   "version": "3.10.8"
  }
 },
 "nbformat": 4,
 "nbformat_minor": 5
}

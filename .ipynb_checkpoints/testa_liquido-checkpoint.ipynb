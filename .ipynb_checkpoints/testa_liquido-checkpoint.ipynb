{
 "cells": [
  {
   "cell_type": "markdown",
   "id": "d609bc59-5ec5-4ce4-90ae-320bfc910cfe",
   "metadata": {},
   "source": [
    "### Fitando os modelos de viscosidade"
   ]
  },
  {
   "cell_type": "markdown",
   "id": "76f93cbe-3db9-4aff-a494-9aafd55ba6db",
   "metadata": {},
   "source": [
    "Neste notebook importamos as equações e os dados experimentais para ajustar os modelos. Criamos um dicionário que armazena os valores e os desvios padrão dos parâmetros. Ao fim, armazenamos em um documento, como o módulo Pickle, os números desejados."
   ]
  },
  {
   "cell_type": "code",
   "execution_count": 19,
   "id": "ca7a5611-94d9-441e-bdc6-34e6c2b32e17",
   "metadata": {},
   "outputs": [],
   "source": [
    "from Viscosity_models import *\n",
    "from Constants import *\n",
    "import pandas as pd\n",
    "import numpy as np\n",
    "import pickle"
   ]
  },
  {
   "cell_type": "code",
   "execution_count": 20,
   "id": "6468a67f-ba32-4c52-8d60-a9745e7fbe5d",
   "metadata": {},
   "outputs": [],
   "source": [
    "dados = pd.read_excel('CaMgSi2O6.xlsx')\n",
    "dados = dados.sort_values('temp [K]')\n",
    "x = np.array(dados['temp [K]'])\n",
    "y_log = np.array(dados['visc [log10 Pa.s]'])"
   ]
  },
  {
   "cell_type": "code",
   "execution_count": 21,
   "id": "bb8f755e-7e89-4bbb-8540-e9ca8eac254c",
   "metadata": {},
   "outputs": [],
   "source": [
    "def fita_modelos(log_eta_inf, Tg, m, equacoes):\n",
    "    \n",
    "    palpites_iniciais = {}\n",
    "    resultados_ajuste = {}\n",
    "    liquidos_e_ajustes = {}\n",
    "    \n",
    "    for liquido in liquidos:\n",
    "        \n",
    "        dados = pd.read_excel(liquido)\n",
    "        dados = dados.sort_values('temp [K]')\n",
    "        x = np.array(dados['temp [K]'])\n",
    "        y_log = np.array(dados['visc [log10 Pa.s]'])\n",
    "        \n",
    "        for equacao in equacoes:\n",
    "\n",
    "            modelo = Model(equacao)\n",
    "\n",
    "            if equacao == VFT:\n",
    "                Tg = 1000\n",
    "            elif equacao == AM:\n",
    "                pass\n",
    "            elif equacao == CW:\n",
    "                pass\n",
    "            elif equacao == F2:\n",
    "                pass\n",
    "            elif equacao == F3:\n",
    "                pass\n",
    "            elif equacao == F4:\n",
    "                log_eta_inf = 1\n",
    "                Tg = 1000\n",
    "            elif equacao == CLU:\n",
    "                Tg = 1000\n",
    "            elif equacao == Bassler:\n",
    "                pass\n",
    "            elif equacao == FF:\n",
    "                pass\n",
    "            elif equacao == Demetriou_et_al:\n",
    "                pass\n",
    "\n",
    "            params = modelo.make_params(log_eta_inf = log_eta_inf, m = m, Tg = Tg)\n",
    "            resultado =  modelo.fit(y_log, params, T=x)\n",
    "\n",
    "            resultados_ajuste[equacao] = resultado\n",
    "        pickle.dump(resultados_ajuste, open(\"resultados_ajuste\", \"wb\"))\n",
    "        \n",
    "    return resultados_ajuste"
   ]
  },
  {
   "cell_type": "code",
   "execution_count": 23,
   "id": "30e6f018-473b-4740-bb4d-317fe706177b",
   "metadata": {},
   "outputs": [],
   "source": [
    "resultados_ajuste = fita_modelos(log_eta_inf, Tg, m, equacoes)"
   ]
  },
  {
   "cell_type": "code",
   "execution_count": 24,
   "id": "167fc7e5-09ba-4e10-854b-26ef5446ee76",
   "metadata": {},
   "outputs": [
    {
     "name": "stdout",
     "output_type": "stream",
     "text": [
      "{<function VFT at 0x00000175BA55C160>: <lmfit.model.ModelResult object at 0x00000175DB815450>, <function AM at 0x00000175C9935360>: <lmfit.model.ModelResult object at 0x00000175DB8174F0>, <function MYEGA at 0x00000175DAEBA0E0>: <lmfit.model.ModelResult object at 0x00000175DB816680>, <function CW at 0x00000175DAED4E50>: <lmfit.model.ModelResult object at 0x00000175DB161F60>}\n"
     ]
    }
   ],
   "source": [
    "print(resultados_ajuste)"
   ]
  },
  {
   "cell_type": "code",
   "execution_count": 22,
   "id": "8d57ff51-f0a8-497b-88bc-7ae9040153b5",
   "metadata": {},
   "outputs": [
    {
     "data": {
      "text/plain": [
       "{<function Viscosity_models.VFT(T, log_eta_inf, m, Tg)>: <lmfit.model.ModelResult at 0x175db815570>,\n",
       " <function Viscosity_models.AM(T, log_eta_inf, m, Tg)>: <lmfit.model.ModelResult at 0x175db816a40>,\n",
       " <function Viscosity_models.MYEGA(T, log_eta_inf, m, Tg)>: <lmfit.model.ModelResult at 0x175db816740>,\n",
       " <function Viscosity_models.CW(T, log_eta_inf, m, Tg)>: <lmfit.model.ModelResult at 0x175db817910>}"
      ]
     },
     "execution_count": 22,
     "metadata": {},
     "output_type": "execute_result"
    }
   ],
   "source": [
    "fita_modelos(log_eta_inf, Tg, m, equacoes)"
   ]
  },
  {
   "cell_type": "code",
   "execution_count": null,
   "id": "bf21ff06-207d-4ea7-8993-644fd6c7aa1d",
   "metadata": {},
   "outputs": [],
   "source": []
  }
 ],
 "metadata": {
  "kernelspec": {
   "display_name": "ilumpy",
   "language": "python",
   "name": "ilumpy"
  },
  "language_info": {
   "codemirror_mode": {
    "name": "ipython",
    "version": 3
   },
   "file_extension": ".py",
   "mimetype": "text/x-python",
   "name": "python",
   "nbconvert_exporter": "python",
   "pygments_lexer": "ipython3",
   "version": "3.10.8"
  }
 },
 "nbformat": 4,
 "nbformat_minor": 5
}
